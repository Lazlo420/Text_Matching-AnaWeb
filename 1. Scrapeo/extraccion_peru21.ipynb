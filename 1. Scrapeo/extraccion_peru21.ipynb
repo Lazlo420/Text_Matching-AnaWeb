{
 "cells": [
  {
   "cell_type": "code",
   "execution_count": 25,
   "metadata": {},
   "outputs": [],
   "source": [
    "import csv\n",
    "import requests\n",
    "from bs4 import BeautifulSoup\n",
    "from urllib.parse import urlparse, urlunparse\n",
    "from datetime import datetime\n",
    "from concurrent.futures import ThreadPoolExecutor\n",
    "import os\n",
    "\n",
    "links=[]\n",
    "with open(r\"Links\\links_peru21.txt\",\"r\",encoding=\"utf-8\") as file:\n",
    "    for line in file:\n",
    "        links.append(line.replace('\\n',''))\n"
   ]
  },
  {
   "cell_type": "code",
   "execution_count": 26,
   "metadata": {},
   "outputs": [
    {
     "name": "stdout",
     "output_type": "stream",
     "text": [
      "87328\n",
      "71414\n"
     ]
    }
   ],
   "source": [
    "print(len(links))\n",
    "links=list(set(links))\n",
    "print(len(links))\n"
   ]
  },
  {
   "cell_type": "code",
   "execution_count": 2,
   "metadata": {},
   "outputs": [
    {
     "data": {
      "text/plain": [
       "'https://peru21.pe/lima/controlo-incendio-almacen-material-reciclado-puente-piedra-64457-noticia/'"
      ]
     },
     "execution_count": 2,
     "metadata": {},
     "output_type": "execute_result"
    }
   ],
   "source": [
    "link=links[0]\n",
    "link"
   ]
  },
  {
   "cell_type": "code",
   "execution_count": 14,
   "metadata": {},
   "outputs": [],
   "source": [
    "def remove_scripts(soup):\n",
    "    for script in soup([\"script\", \"style\"]):\n",
    "        script.extract()\n",
    "\n",
    "def fetch_content(link):\n",
    "    try:\n",
    "        response = requests.get(link)\n",
    "        soup = BeautifulSoup(response.content, 'html.parser')\n",
    "        remove_scripts(soup)\n",
    "        headline_tag = soup.find('h1', itemprop='name')\n",
    "        headline = headline_tag.text.strip() if headline_tag else ''\n",
    "        print(headline)\n",
    "        article_body = soup.find('div', class_='story-contents__content').text\n",
    "        print(article_body)\n",
    "        date_tag = soup.find('time')\n",
    "        date = date_tag['datetime'] if date_tag else ''\n",
    "        try:\n",
    "            date = datetime.fromisoformat(date).strftime('%d-%m-%Y')\n",
    "        except ValueError:\n",
    "            try:\n",
    "                date = datetime.strptime(date, '%a %b %d %Y %H:%M:%S GMT%z (%Z)').strftime('%d-%m-%Y')\n",
    "            except ValueError:\n",
    "                pass\n",
    "        print(date)\n",
    "\n",
    "        tags_tag = soup.find('div', class_='st-tags__box')\n",
    "        tags = set(tag.text for tag in tags_tag.find_all('a')) if tags_tag else set()\n",
    "        tags_str = ', '.join(tags)\n",
    "        print(tags_str)\n",
    "\n",
    "        bajada_tag = soup.find('h2', class_='sht__summary')\n",
    "        bajada = bajada_tag.text.strip() if bajada_tag else ''\n",
    "        print(bajada)\n",
    "        antetitulo_tag = soup.find('div', class_='st-social f just-between')\n",
    "        antetitulo = antetitulo_tag.text.strip() if antetitulo_tag else ''\n",
    "        print(antetitulo)\n",
    "        print(link, headline.replace('\\n', ''), bajada.replace('\\n', ''), antetitulo.replace('\\n', ''), article_body.replace('\\n', ''), date, tags_str)\n",
    "    except Exception as e:\n",
    "        print(f\"Error processing {link}: {e}\")\n",
    "\n"
   ]
  },
  {
   "cell_type": "code",
   "execution_count": 13,
   "metadata": {},
   "outputs": [
    {
     "name": "stdout",
     "output_type": "stream",
     "text": [
      "Se controló incendio en almacén de material reciclado en Puente Piedra\n",
      "Cinco unidades de los bomberos se necesitaron para apagar el incendio en un local de material reciclado  de nombre Jv plásticos en Puente Piedra a la altura del kilómetro 27 de la Panamericana Norte.Los bomberos llegaron rápidamente al local, ya que se dirigían al incendio que se desarrolla en Carabayllo en un depósito de aserrín, por lo que pudieron controlar la emergencia rápidamente. Se usaron cinco unidades.  \"Las unidades se estaban retirándose para el relevo, porque la emergencia en Carabayllo sigue, y (esas) son las que están acá, por lo que no hemos necesitado trabajar con hidrantes porque todas las unidades han estado recargadas, y por la cantidad de material nos ha sido suficientes (con esa agua)\", indicó el bombero Enrique Egusquiza a RPP.Enrique Egusquiza manifestó que casi todo el material del local se ha visto comprometido, pero que ya se controló la emergencia.DATO Casi en paralelo se desarrolló un incendio en el Centro de Lima a la altura de la Plaza Dos de Mayo en un local de venta de instrumentos musicales. \n",
      "01-01-2017\n",
      "Puente Piedra\n",
      "Se necesitaron cinco unidades de los bomberos para poder controlar el siniestro.\n",
      "Lima\n",
      "https://peru21.pe/lima/controlo-incendio-almacen-material-reciclado-puente-piedra-64457-noticia/ Se controló incendio en almacén de material reciclado en Puente Piedra Se necesitaron cinco unidades de los bomberos para poder controlar el siniestro. Lima Cinco unidades de los bomberos se necesitaron para apagar el incendio en un local de material reciclado  de nombre Jv plásticos en Puente Piedra a la altura del kilómetro 27 de la Panamericana Norte.Los bomberos llegaron rápidamente al local, ya que se dirigían al incendio que se desarrolla en Carabayllo en un depósito de aserrín, por lo que pudieron controlar la emergencia rápidamente. Se usaron cinco unidades.  \"Las unidades se estaban retirándose para el relevo, porque la emergencia en Carabayllo sigue, y (esas) son las que están acá, por lo que no hemos necesitado trabajar con hidrantes porque todas las unidades han estado recargadas, y por la cantidad de material nos ha sido suficientes (con esa agua)\", indicó el bombero Enrique Egusquiza a RPP.Enrique Egusquiza manifestó que casi todo el material del local se ha visto comprometido, pero que ya se controló la emergencia.DATO Casi en paralelo se desarrolló un incendio en el Centro de Lima a la altura de la Plaza Dos de Mayo en un local de venta de instrumentos musicales.  01-01-2017 Puente Piedra\n",
      "Cercado de Lima: Bomberos controlan incendio en local de venta de instrumentos musicales\n",
      "Un incendio se reportó en una tienda de instrumentos musicales ubicada en la Plaza Dos de Mayo, en el Cercado de Lima, al costado del local de la Confederación General de Trabajadores del Perú (CGTP). Luego de casi  tres horas se logró controlar. \"Ya está controlado. (…) Se bajó totalmente las llamas estamos en al etapa final. Han ingresado los bomberos y cuando salgan se podrá dar la información que requieren\", indicó un comandante del Cuerpo General de Bomberos Voluntarios del Perú a Canal N.El siniestro habría iniciado a alrededor de las 7:30 de la noche y alrededor de las 10 de la noche se logró controlar. Se necesitaron 8 unidades de los bomberos.Durante el incendio, uno de los bomberos que estaba atendiendo la emergencia resultó herido y tuvo que se trasladado.Cabe indicar, que durante la emergencia la Policía cercó los alrededores del local para evitar que los peatones resulten heridos producto del siniestro.Más información  Se controló incendio en almacén de material reciclado en Puente Piedra \n",
      "01-01-2017\n",
      "Cercado de Lima\n",
      "El local se encuentra cerca al lado de la Confederación General de Trabajadores del Perú (CGTP) en la Plaza Dos de Mayo.\n",
      "Lima\n",
      "https://peru21.pe/lima/cercado-lima-bomberos-controlan-incendio-local-venta-instrumentos-musicales-61764-noticia/ Cercado de Lima: Bomberos controlan incendio en local de venta de instrumentos musicales El local se encuentra cerca al lado de la Confederación General de Trabajadores del Perú (CGTP) en la Plaza Dos de Mayo. Lima Un incendio se reportó en una tienda de instrumentos musicales ubicada en la Plaza Dos de Mayo, en el Cercado de Lima, al costado del local de la Confederación General de Trabajadores del Perú (CGTP). Luego de casi  tres horas se logró controlar. \"Ya está controlado. (…) Se bajó totalmente las llamas estamos en al etapa final. Han ingresado los bomberos y cuando salgan se podrá dar la información que requieren\", indicó un comandante del Cuerpo General de Bomberos Voluntarios del Perú a Canal N.El siniestro habría iniciado a alrededor de las 7:30 de la noche y alrededor de las 10 de la noche se logró controlar. Se necesitaron 8 unidades de los bomberos.Durante el incendio, uno de los bomberos que estaba atendiendo la emergencia resultó herido y tuvo que se trasladado.Cabe indicar, que durante la emergencia la Policía cercó los alrededores del local para evitar que los peatones resulten heridos producto del siniestro.Más información  Se controló incendio en almacén de material reciclado en Puente Piedra  01-01-2017 Cercado de Lima\n",
      "Arequipa: Gobierno regional espera ejecutar obras por S/4,400 millones\n",
      "Las proyecciones del Gobierno Regional de Arequipa para 2017 son ambiciosas. La gerencia de proyectos tiene una cartera para inversión privada y pública por más de 4,400 millones de soles.  De estos planes, el más costoso es el de las centrales hidroeléctricas de Lluta y Lluclla, que son componentes del proyecto Majes Siguas II. Además, la construcción del nuevo hospital Goyeneche, el proyecto de irrigación Arma y la nueva vía al cono norte. Las negociaciones para concretar las centrales de generación eléctrica que demandarían 3,200 millones de soles para generar más de 500 megavatios están bastante avanzadas. La empresa Luz del Sur, que tiene la primera opción, formuló una propuesta al gobierno regional y los funcionarios respondieron con una contrapropuesta. El detalle que podría entorpecer los tratos es la concesión que tiene Consorcio Tarucani para utilizar una parte de la caída de agua, que resulta fundamental porque sin ella no podría generarse los más de 500 MW. Juan Carlos Agramonte, asesor principal de la gobernadora regional de Arequipa, Yamila Osorio, confía en que la contrapropuesta de la región sea aceptada. No dio detalles, pero mencionó que las dos empresas (Luz del Sur y Tarucani) podrían consorciarse. Luz del Sur responderá a mediados de enero y más tardar a fines. \"Si dicen que no, se cae todo. Si aceptan, empezamos de inmediato\", mencionó. El nuevo hospital Goyeneche es parte de uno de los pilares de la gestión de Yamila Osorio. Demandará una inversión aproximada S/440 millones y aún no saben si la inversión total provendrá del estado o habrá participación del sector privado. Este establecimiento de salud es el segundo más grande la región. Otro de los proyectos es Arma, que irrigará 14 mil hectáreas en la provincia de Condesuyos. Requiere una inversión de 254 millones de soles. La nueva vía al cono norte demandará S/171 millones y será fundamental para descongestionar la pista de salida de la Ciudad Blanca hacia Puno y Cusco. Por: Gessler Ojeda (gojeda@peru21.com)\n",
      "01-01-2017\n",
      "Arequipa\n",
      "Entre proyectos se encuentra proyecto Arma, nuevo hospital Goyeneche y vía al cono norte.\n",
      "Lima\n",
      "https://peru21.pe/lima/arequipa-gobierno-regional-espera-ejecutar-obras-s-4-400-millones-61763-noticia/ Arequipa: Gobierno regional espera ejecutar obras por S/4,400 millones Entre proyectos se encuentra proyecto Arma, nuevo hospital Goyeneche y vía al cono norte. Lima Las proyecciones del Gobierno Regional de Arequipa para 2017 son ambiciosas. La gerencia de proyectos tiene una cartera para inversión privada y pública por más de 4,400 millones de soles.  De estos planes, el más costoso es el de las centrales hidroeléctricas de Lluta y Lluclla, que son componentes del proyecto Majes Siguas II. Además, la construcción del nuevo hospital Goyeneche, el proyecto de irrigación Arma y la nueva vía al cono norte. Las negociaciones para concretar las centrales de generación eléctrica que demandarían 3,200 millones de soles para generar más de 500 megavatios están bastante avanzadas. La empresa Luz del Sur, que tiene la primera opción, formuló una propuesta al gobierno regional y los funcionarios respondieron con una contrapropuesta. El detalle que podría entorpecer los tratos es la concesión que tiene Consorcio Tarucani para utilizar una parte de la caída de agua, que resulta fundamental porque sin ella no podría generarse los más de 500 MW. Juan Carlos Agramonte, asesor principal de la gobernadora regional de Arequipa, Yamila Osorio, confía en que la contrapropuesta de la región sea aceptada. No dio detalles, pero mencionó que las dos empresas (Luz del Sur y Tarucani) podrían consorciarse. Luz del Sur responderá a mediados de enero y más tardar a fines. \"Si dicen que no, se cae todo. Si aceptan, empezamos de inmediato\", mencionó. El nuevo hospital Goyeneche es parte de uno de los pilares de la gestión de Yamila Osorio. Demandará una inversión aproximada S/440 millones y aún no saben si la inversión total provendrá del estado o habrá participación del sector privado. Este establecimiento de salud es el segundo más grande la región. Otro de los proyectos es Arma, que irrigará 14 mil hectáreas en la provincia de Condesuyos. Requiere una inversión de 254 millones de soles. La nueva vía al cono norte demandará S/171 millones y será fundamental para descongestionar la pista de salida de la Ciudad Blanca hacia Puno y Cusco. Por: Gessler Ojeda (gojeda@peru21.com) 01-01-2017 Arequipa\n",
      "El Hombre Misterioso estrena nuevo videoclip 'Sabia Virtud'\n",
      "El Hombre Misterioso lanzó este domingo el videoclip de Sabia Virtud, tema incluido en su último disco, El Hombre Misterioso, el cual ha sido considerado por varios medios como el mejor del 2016.  La canción, compuesta en 2015, es una colaboración entre la banda y el artista mexicano Abraham Cruzvillegas, autor de las letras del tema. Las letras de Sabia Virtud se basan en un poema que mezcla lenguas originarias del Perú y de México.  En el video se observa al artista conducir el motataxi y vemos su recorrido a través de una cámara instalada en el vehículo.  Cruzvillegas realizó una muestra en el Museo de Arte de Lima, en la cual presentó un disco compilatorio junto a doce artistas locales. De esta experiencia surgió el video, filmado por Santiago Pillado y editado por Bruno Renzo. \n",
      "01-01-2017\n",
      "El hombre misterioso, Movida.21\n",
      "Tema está dentro de su quinto disco, El Hombre Misterioso, el cual ha sido considerado por varios medios como el mejor del 2016.\n",
      "Cultura\n",
      "https://peru21.pe/cultura/hombre-misterioso-estrena-nuevo-videoclip-sabia-virtud-61761-noticia/ El Hombre Misterioso estrena nuevo videoclip 'Sabia Virtud' Tema está dentro de su quinto disco, El Hombre Misterioso, el cual ha sido considerado por varios medios como el mejor del 2016. Cultura El Hombre Misterioso lanzó este domingo el videoclip de Sabia Virtud, tema incluido en su último disco, El Hombre Misterioso, el cual ha sido considerado por varios medios como el mejor del 2016.  La canción, compuesta en 2015, es una colaboración entre la banda y el artista mexicano Abraham Cruzvillegas, autor de las letras del tema. Las letras de Sabia Virtud se basan en un poema que mezcla lenguas originarias del Perú y de México.  En el video se observa al artista conducir el motataxi y vemos su recorrido a través de una cámara instalada en el vehículo.  Cruzvillegas realizó una muestra en el Museo de Arte de Lima, en la cual presentó un disco compilatorio junto a doce artistas locales. De esta experiencia surgió el video, filmado por Santiago Pillado y editado por Bruno Renzo.  01-01-2017 El hombre misterioso, Movida.21\n",
      "Paolo Guerrero celebró su cumpleaños y Año Nuevo con Jefferson Farfán\n",
      "Paolo Guerrero y Jefferson Farfán decidieron recibir juntos  Año Nuevo y, por supuesto, los festejos por el cumpleaños del 'Depredador' que este 1 de enero llegó a los 33 años de edad.Vestidos ambos de blanco, los dos atacantes de la selección peruana recibieron las doce de la noche entre fotos que luego colgaron cada uno desde sus cuentas de Instagram.Paolo Guerrero y Jefferson Farfán acompañaron sus fotografías con mensajes de agradecimiento por todo lo que lograron en 2016.  \"Gracias a Dios primero por darme salud y por proteger a mi familia a mis bellos hijos, en especial a mi madre que la amo más que a mi vida. Espero que este año sea importante para mí y pueda cumplir sueños que a un tengo en mente\", escribió Jefferson Farfán.Además, en otra foto en la cual aparece junto con Paolo Guerrero, le dedicó unas líneas por su cumpleaños. \"Feliz año 2017 a todos. Súper feliz de pasar el año al lado de mi hermano del alma, feliz cumpleaños hermano te mereces todo lo mejor\", publicó.Mientra tanto, Paolo Guerrero agradeció a todas personas quienes se acordaron de su onomástico. \"Gracias a todos los que se acordaron y los que me mandaron vibras por mi cumpleaños. Estoy agradecido a Dios por la salud que me da y por qué siempre está a mi lado cuidándome. A mis papas por qué siempre están conmigo apoyándome…\", sentenció el delantero del Flamengo.Más información  Paolo Guerrero hoy cumple 33 años y recordamos todos sus goles con la selección peruana   Paolo Guerrero: 'Esperemos que Alianza Lima salga campeón en el 2017' \n",
      "01-01-2017\n",
      "Jefferson Farfán, Paolo Guerrero\n",
      "El ‘Depredador’ no perdió la oportunidad para festejar su onomástico número 33 y la llegada de 2017 con su compañero de selección.\n",
      "Deportes\n",
      "https://peru21.pe/deportes/paolo-guerrero-celebro-cumpleanos-ano-nuevo-jefferson-farfan-61762-noticia/ Paolo Guerrero celebró su cumpleaños y Año Nuevo con Jefferson Farfán El ‘Depredador’ no perdió la oportunidad para festejar su onomástico número 33 y la llegada de 2017 con su compañero de selección. Deportes Paolo Guerrero y Jefferson Farfán decidieron recibir juntos  Año Nuevo y, por supuesto, los festejos por el cumpleaños del 'Depredador' que este 1 de enero llegó a los 33 años de edad.Vestidos ambos de blanco, los dos atacantes de la selección peruana recibieron las doce de la noche entre fotos que luego colgaron cada uno desde sus cuentas de Instagram.Paolo Guerrero y Jefferson Farfán acompañaron sus fotografías con mensajes de agradecimiento por todo lo que lograron en 2016.  \"Gracias a Dios primero por darme salud y por proteger a mi familia a mis bellos hijos, en especial a mi madre que la amo más que a mi vida. Espero que este año sea importante para mí y pueda cumplir sueños que a un tengo en mente\", escribió Jefferson Farfán.Además, en otra foto en la cual aparece junto con Paolo Guerrero, le dedicó unas líneas por su cumpleaños. \"Feliz año 2017 a todos. Súper feliz de pasar el año al lado de mi hermano del alma, feliz cumpleaños hermano te mereces todo lo mejor\", publicó.Mientra tanto, Paolo Guerrero agradeció a todas personas quienes se acordaron de su onomástico. \"Gracias a todos los que se acordaron y los que me mandaron vibras por mi cumpleaños. Estoy agradecido a Dios por la salud que me da y por qué siempre está a mi lado cuidándome. A mis papas por qué siempre están conmigo apoyándome…\", sentenció el delantero del Flamengo.Más información  Paolo Guerrero hoy cumple 33 años y recordamos todos sus goles con la selección peruana   Paolo Guerrero: 'Esperemos que Alianza Lima salga campeón en el 2017'  01-01-2017 Jefferson Farfán, Paolo Guerrero\n",
      "Incendio consume depósito de aserrín en Carabayllo\n",
      "Un incendio de grandes proporciones se viene desarrollando en el sector conocido como Roma baja, en Carabayllo, en un almacén de producción de aserrín. Hay 20 unidades de los Bomberos entre cisternas, ambulancias, y camiones autobomba.  \"En un zona semi rústica de Carabayllo. Tenemos problemas de abastecimiento de agua por las mismas características del lugar. Sin embargo, hemos destinado más de 20 unidades que se encuentran en el lugar\", indicó  Lewis Mejía, director de Imagen y Comunicaciones de los Bomberos a Canal N.Cabe indicar, que hasta el momento se ha informado que hay pérdidas materiales, pero no humanas.Los vecinos indican que el siniestro inició a alrededor del mediodía, y se presume que lo podría haber originado la quema de basura, sin embargo, aún no se ha confirmado.En las imágenes difundidas por RPP, se puede observar a los vecinos intentado ayudar a apagar las llamas.\n",
      "01-01-2017\n",
      "Carabayllo\n",
      "Hasta el momento se encuentran en el lugar 20 unidades de bomberos.\n",
      "Lima\n",
      "https://peru21.pe/lima/incendio-consume-deposito-aserrin-carabayllo-64435-noticia/ Incendio consume depósito de aserrín en Carabayllo Hasta el momento se encuentran en el lugar 20 unidades de bomberos. Lima Un incendio de grandes proporciones se viene desarrollando en el sector conocido como Roma baja, en Carabayllo, en un almacén de producción de aserrín. Hay 20 unidades de los Bomberos entre cisternas, ambulancias, y camiones autobomba.  \"En un zona semi rústica de Carabayllo. Tenemos problemas de abastecimiento de agua por las mismas características del lugar. Sin embargo, hemos destinado más de 20 unidades que se encuentran en el lugar\", indicó  Lewis Mejía, director de Imagen y Comunicaciones de los Bomberos a Canal N.Cabe indicar, que hasta el momento se ha informado que hay pérdidas materiales, pero no humanas.Los vecinos indican que el siniestro inició a alrededor del mediodía, y se presume que lo podría haber originado la quema de basura, sin embargo, aún no se ha confirmado.En las imágenes difundidas por RPP, se puede observar a los vecinos intentado ayudar a apagar las llamas. 01-01-2017 Carabayllo\n"
     ]
    },
    {
     "ename": "KeyboardInterrupt",
     "evalue": "",
     "output_type": "error",
     "traceback": [
      "\u001b[1;31m---------------------------------------------------------------------------\u001b[0m",
      "\u001b[1;31mKeyboardInterrupt\u001b[0m                         Traceback (most recent call last)",
      "Cell \u001b[1;32mIn[13], line 2\u001b[0m\n\u001b[0;32m      1\u001b[0m \u001b[38;5;28;01mfor\u001b[39;00m link \u001b[38;5;129;01min\u001b[39;00m links:\n\u001b[1;32m----> 2\u001b[0m     \u001b[43mfetch_content\u001b[49m\u001b[43m(\u001b[49m\u001b[43mlink\u001b[49m\u001b[43m)\u001b[49m\n",
      "Cell \u001b[1;32mIn[12], line 3\u001b[0m, in \u001b[0;36mfetch_content\u001b[1;34m(link)\u001b[0m\n\u001b[0;32m      1\u001b[0m \u001b[38;5;28;01mdef\u001b[39;00m \u001b[38;5;21mfetch_content\u001b[39m(link):\n\u001b[0;32m      2\u001b[0m     \u001b[38;5;28;01mtry\u001b[39;00m:\n\u001b[1;32m----> 3\u001b[0m         response \u001b[38;5;241m=\u001b[39m \u001b[43mrequests\u001b[49m\u001b[38;5;241;43m.\u001b[39;49m\u001b[43mget\u001b[49m\u001b[43m(\u001b[49m\u001b[43mlink\u001b[49m\u001b[43m)\u001b[49m\n\u001b[0;32m      4\u001b[0m         soup \u001b[38;5;241m=\u001b[39m BeautifulSoup(response\u001b[38;5;241m.\u001b[39mcontent, \u001b[38;5;124m'\u001b[39m\u001b[38;5;124mhtml.parser\u001b[39m\u001b[38;5;124m'\u001b[39m)\n\u001b[0;32m      6\u001b[0m         headline_tag \u001b[38;5;241m=\u001b[39m soup\u001b[38;5;241m.\u001b[39mfind(\u001b[38;5;124m'\u001b[39m\u001b[38;5;124mh1\u001b[39m\u001b[38;5;124m'\u001b[39m, itemprop\u001b[38;5;241m=\u001b[39m\u001b[38;5;124m'\u001b[39m\u001b[38;5;124mname\u001b[39m\u001b[38;5;124m'\u001b[39m)\n",
      "File \u001b[1;32mc:\\Users\\gonza\\Desktop\\Proy-Ana\\ProyAna\\Lib\\site-packages\\requests\\api.py:73\u001b[0m, in \u001b[0;36mget\u001b[1;34m(url, params, **kwargs)\u001b[0m\n\u001b[0;32m     62\u001b[0m \u001b[38;5;28;01mdef\u001b[39;00m \u001b[38;5;21mget\u001b[39m(url, params\u001b[38;5;241m=\u001b[39m\u001b[38;5;28;01mNone\u001b[39;00m, \u001b[38;5;241m*\u001b[39m\u001b[38;5;241m*\u001b[39mkwargs):\n\u001b[0;32m     63\u001b[0m \u001b[38;5;250m    \u001b[39m\u001b[38;5;124mr\u001b[39m\u001b[38;5;124;03m\"\"\"Sends a GET request.\u001b[39;00m\n\u001b[0;32m     64\u001b[0m \n\u001b[0;32m     65\u001b[0m \u001b[38;5;124;03m    :param url: URL for the new :class:`Request` object.\u001b[39;00m\n\u001b[1;32m   (...)\u001b[0m\n\u001b[0;32m     70\u001b[0m \u001b[38;5;124;03m    :rtype: requests.Response\u001b[39;00m\n\u001b[0;32m     71\u001b[0m \u001b[38;5;124;03m    \"\"\"\u001b[39;00m\n\u001b[1;32m---> 73\u001b[0m     \u001b[38;5;28;01mreturn\u001b[39;00m \u001b[43mrequest\u001b[49m\u001b[43m(\u001b[49m\u001b[38;5;124;43m\"\u001b[39;49m\u001b[38;5;124;43mget\u001b[39;49m\u001b[38;5;124;43m\"\u001b[39;49m\u001b[43m,\u001b[49m\u001b[43m \u001b[49m\u001b[43murl\u001b[49m\u001b[43m,\u001b[49m\u001b[43m \u001b[49m\u001b[43mparams\u001b[49m\u001b[38;5;241;43m=\u001b[39;49m\u001b[43mparams\u001b[49m\u001b[43m,\u001b[49m\u001b[43m \u001b[49m\u001b[38;5;241;43m*\u001b[39;49m\u001b[38;5;241;43m*\u001b[39;49m\u001b[43mkwargs\u001b[49m\u001b[43m)\u001b[49m\n",
      "File \u001b[1;32mc:\\Users\\gonza\\Desktop\\Proy-Ana\\ProyAna\\Lib\\site-packages\\requests\\api.py:59\u001b[0m, in \u001b[0;36mrequest\u001b[1;34m(method, url, **kwargs)\u001b[0m\n\u001b[0;32m     55\u001b[0m \u001b[38;5;66;03m# By using the 'with' statement we are sure the session is closed, thus we\u001b[39;00m\n\u001b[0;32m     56\u001b[0m \u001b[38;5;66;03m# avoid leaving sockets open which can trigger a ResourceWarning in some\u001b[39;00m\n\u001b[0;32m     57\u001b[0m \u001b[38;5;66;03m# cases, and look like a memory leak in others.\u001b[39;00m\n\u001b[0;32m     58\u001b[0m \u001b[38;5;28;01mwith\u001b[39;00m sessions\u001b[38;5;241m.\u001b[39mSession() \u001b[38;5;28;01mas\u001b[39;00m session:\n\u001b[1;32m---> 59\u001b[0m     \u001b[38;5;28;01mreturn\u001b[39;00m \u001b[43msession\u001b[49m\u001b[38;5;241;43m.\u001b[39;49m\u001b[43mrequest\u001b[49m\u001b[43m(\u001b[49m\u001b[43mmethod\u001b[49m\u001b[38;5;241;43m=\u001b[39;49m\u001b[43mmethod\u001b[49m\u001b[43m,\u001b[49m\u001b[43m \u001b[49m\u001b[43murl\u001b[49m\u001b[38;5;241;43m=\u001b[39;49m\u001b[43murl\u001b[49m\u001b[43m,\u001b[49m\u001b[43m \u001b[49m\u001b[38;5;241;43m*\u001b[39;49m\u001b[38;5;241;43m*\u001b[39;49m\u001b[43mkwargs\u001b[49m\u001b[43m)\u001b[49m\n",
      "File \u001b[1;32mc:\\Users\\gonza\\Desktop\\Proy-Ana\\ProyAna\\Lib\\site-packages\\requests\\sessions.py:589\u001b[0m, in \u001b[0;36mSession.request\u001b[1;34m(self, method, url, params, data, headers, cookies, files, auth, timeout, allow_redirects, proxies, hooks, stream, verify, cert, json)\u001b[0m\n\u001b[0;32m    584\u001b[0m send_kwargs \u001b[38;5;241m=\u001b[39m {\n\u001b[0;32m    585\u001b[0m     \u001b[38;5;124m\"\u001b[39m\u001b[38;5;124mtimeout\u001b[39m\u001b[38;5;124m\"\u001b[39m: timeout,\n\u001b[0;32m    586\u001b[0m     \u001b[38;5;124m\"\u001b[39m\u001b[38;5;124mallow_redirects\u001b[39m\u001b[38;5;124m\"\u001b[39m: allow_redirects,\n\u001b[0;32m    587\u001b[0m }\n\u001b[0;32m    588\u001b[0m send_kwargs\u001b[38;5;241m.\u001b[39mupdate(settings)\n\u001b[1;32m--> 589\u001b[0m resp \u001b[38;5;241m=\u001b[39m \u001b[38;5;28;43mself\u001b[39;49m\u001b[38;5;241;43m.\u001b[39;49m\u001b[43msend\u001b[49m\u001b[43m(\u001b[49m\u001b[43mprep\u001b[49m\u001b[43m,\u001b[49m\u001b[43m \u001b[49m\u001b[38;5;241;43m*\u001b[39;49m\u001b[38;5;241;43m*\u001b[39;49m\u001b[43msend_kwargs\u001b[49m\u001b[43m)\u001b[49m\n\u001b[0;32m    591\u001b[0m \u001b[38;5;28;01mreturn\u001b[39;00m resp\n",
      "File \u001b[1;32mc:\\Users\\gonza\\Desktop\\Proy-Ana\\ProyAna\\Lib\\site-packages\\requests\\sessions.py:703\u001b[0m, in \u001b[0;36mSession.send\u001b[1;34m(self, request, **kwargs)\u001b[0m\n\u001b[0;32m    700\u001b[0m start \u001b[38;5;241m=\u001b[39m preferred_clock()\n\u001b[0;32m    702\u001b[0m \u001b[38;5;66;03m# Send the request\u001b[39;00m\n\u001b[1;32m--> 703\u001b[0m r \u001b[38;5;241m=\u001b[39m \u001b[43madapter\u001b[49m\u001b[38;5;241;43m.\u001b[39;49m\u001b[43msend\u001b[49m\u001b[43m(\u001b[49m\u001b[43mrequest\u001b[49m\u001b[43m,\u001b[49m\u001b[43m \u001b[49m\u001b[38;5;241;43m*\u001b[39;49m\u001b[38;5;241;43m*\u001b[39;49m\u001b[43mkwargs\u001b[49m\u001b[43m)\u001b[49m\n\u001b[0;32m    705\u001b[0m \u001b[38;5;66;03m# Total elapsed time of the request (approximately)\u001b[39;00m\n\u001b[0;32m    706\u001b[0m elapsed \u001b[38;5;241m=\u001b[39m preferred_clock() \u001b[38;5;241m-\u001b[39m start\n",
      "File \u001b[1;32mc:\\Users\\gonza\\Desktop\\Proy-Ana\\ProyAna\\Lib\\site-packages\\requests\\adapters.py:486\u001b[0m, in \u001b[0;36mHTTPAdapter.send\u001b[1;34m(self, request, stream, timeout, verify, cert, proxies)\u001b[0m\n\u001b[0;32m    483\u001b[0m     timeout \u001b[38;5;241m=\u001b[39m TimeoutSauce(connect\u001b[38;5;241m=\u001b[39mtimeout, read\u001b[38;5;241m=\u001b[39mtimeout)\n\u001b[0;32m    485\u001b[0m \u001b[38;5;28;01mtry\u001b[39;00m:\n\u001b[1;32m--> 486\u001b[0m     resp \u001b[38;5;241m=\u001b[39m \u001b[43mconn\u001b[49m\u001b[38;5;241;43m.\u001b[39;49m\u001b[43murlopen\u001b[49m\u001b[43m(\u001b[49m\n\u001b[0;32m    487\u001b[0m \u001b[43m        \u001b[49m\u001b[43mmethod\u001b[49m\u001b[38;5;241;43m=\u001b[39;49m\u001b[43mrequest\u001b[49m\u001b[38;5;241;43m.\u001b[39;49m\u001b[43mmethod\u001b[49m\u001b[43m,\u001b[49m\n\u001b[0;32m    488\u001b[0m \u001b[43m        \u001b[49m\u001b[43murl\u001b[49m\u001b[38;5;241;43m=\u001b[39;49m\u001b[43murl\u001b[49m\u001b[43m,\u001b[49m\n\u001b[0;32m    489\u001b[0m \u001b[43m        \u001b[49m\u001b[43mbody\u001b[49m\u001b[38;5;241;43m=\u001b[39;49m\u001b[43mrequest\u001b[49m\u001b[38;5;241;43m.\u001b[39;49m\u001b[43mbody\u001b[49m\u001b[43m,\u001b[49m\n\u001b[0;32m    490\u001b[0m \u001b[43m        \u001b[49m\u001b[43mheaders\u001b[49m\u001b[38;5;241;43m=\u001b[39;49m\u001b[43mrequest\u001b[49m\u001b[38;5;241;43m.\u001b[39;49m\u001b[43mheaders\u001b[49m\u001b[43m,\u001b[49m\n\u001b[0;32m    491\u001b[0m \u001b[43m        \u001b[49m\u001b[43mredirect\u001b[49m\u001b[38;5;241;43m=\u001b[39;49m\u001b[38;5;28;43;01mFalse\u001b[39;49;00m\u001b[43m,\u001b[49m\n\u001b[0;32m    492\u001b[0m \u001b[43m        \u001b[49m\u001b[43massert_same_host\u001b[49m\u001b[38;5;241;43m=\u001b[39;49m\u001b[38;5;28;43;01mFalse\u001b[39;49;00m\u001b[43m,\u001b[49m\n\u001b[0;32m    493\u001b[0m \u001b[43m        \u001b[49m\u001b[43mpreload_content\u001b[49m\u001b[38;5;241;43m=\u001b[39;49m\u001b[38;5;28;43;01mFalse\u001b[39;49;00m\u001b[43m,\u001b[49m\n\u001b[0;32m    494\u001b[0m \u001b[43m        \u001b[49m\u001b[43mdecode_content\u001b[49m\u001b[38;5;241;43m=\u001b[39;49m\u001b[38;5;28;43;01mFalse\u001b[39;49;00m\u001b[43m,\u001b[49m\n\u001b[0;32m    495\u001b[0m \u001b[43m        \u001b[49m\u001b[43mretries\u001b[49m\u001b[38;5;241;43m=\u001b[39;49m\u001b[38;5;28;43mself\u001b[39;49m\u001b[38;5;241;43m.\u001b[39;49m\u001b[43mmax_retries\u001b[49m\u001b[43m,\u001b[49m\n\u001b[0;32m    496\u001b[0m \u001b[43m        \u001b[49m\u001b[43mtimeout\u001b[49m\u001b[38;5;241;43m=\u001b[39;49m\u001b[43mtimeout\u001b[49m\u001b[43m,\u001b[49m\n\u001b[0;32m    497\u001b[0m \u001b[43m        \u001b[49m\u001b[43mchunked\u001b[49m\u001b[38;5;241;43m=\u001b[39;49m\u001b[43mchunked\u001b[49m\u001b[43m,\u001b[49m\n\u001b[0;32m    498\u001b[0m \u001b[43m    \u001b[49m\u001b[43m)\u001b[49m\n\u001b[0;32m    500\u001b[0m \u001b[38;5;28;01mexcept\u001b[39;00m (ProtocolError, \u001b[38;5;167;01mOSError\u001b[39;00m) \u001b[38;5;28;01mas\u001b[39;00m err:\n\u001b[0;32m    501\u001b[0m     \u001b[38;5;28;01mraise\u001b[39;00m \u001b[38;5;167;01mConnectionError\u001b[39;00m(err, request\u001b[38;5;241m=\u001b[39mrequest)\n",
      "File \u001b[1;32mc:\\Users\\gonza\\Desktop\\Proy-Ana\\ProyAna\\Lib\\site-packages\\urllib3\\connectionpool.py:715\u001b[0m, in \u001b[0;36mHTTPConnectionPool.urlopen\u001b[1;34m(self, method, url, body, headers, retries, redirect, assert_same_host, timeout, pool_timeout, release_conn, chunked, body_pos, **response_kw)\u001b[0m\n\u001b[0;32m    712\u001b[0m     \u001b[38;5;28mself\u001b[39m\u001b[38;5;241m.\u001b[39m_prepare_proxy(conn)\n\u001b[0;32m    714\u001b[0m \u001b[38;5;66;03m# Make the request on the httplib connection object.\u001b[39;00m\n\u001b[1;32m--> 715\u001b[0m httplib_response \u001b[38;5;241m=\u001b[39m \u001b[38;5;28;43mself\u001b[39;49m\u001b[38;5;241;43m.\u001b[39;49m\u001b[43m_make_request\u001b[49m\u001b[43m(\u001b[49m\n\u001b[0;32m    716\u001b[0m \u001b[43m    \u001b[49m\u001b[43mconn\u001b[49m\u001b[43m,\u001b[49m\n\u001b[0;32m    717\u001b[0m \u001b[43m    \u001b[49m\u001b[43mmethod\u001b[49m\u001b[43m,\u001b[49m\n\u001b[0;32m    718\u001b[0m \u001b[43m    \u001b[49m\u001b[43murl\u001b[49m\u001b[43m,\u001b[49m\n\u001b[0;32m    719\u001b[0m \u001b[43m    \u001b[49m\u001b[43mtimeout\u001b[49m\u001b[38;5;241;43m=\u001b[39;49m\u001b[43mtimeout_obj\u001b[49m\u001b[43m,\u001b[49m\n\u001b[0;32m    720\u001b[0m \u001b[43m    \u001b[49m\u001b[43mbody\u001b[49m\u001b[38;5;241;43m=\u001b[39;49m\u001b[43mbody\u001b[49m\u001b[43m,\u001b[49m\n\u001b[0;32m    721\u001b[0m \u001b[43m    \u001b[49m\u001b[43mheaders\u001b[49m\u001b[38;5;241;43m=\u001b[39;49m\u001b[43mheaders\u001b[49m\u001b[43m,\u001b[49m\n\u001b[0;32m    722\u001b[0m \u001b[43m    \u001b[49m\u001b[43mchunked\u001b[49m\u001b[38;5;241;43m=\u001b[39;49m\u001b[43mchunked\u001b[49m\u001b[43m,\u001b[49m\n\u001b[0;32m    723\u001b[0m \u001b[43m\u001b[49m\u001b[43m)\u001b[49m\n\u001b[0;32m    725\u001b[0m \u001b[38;5;66;03m# If we're going to release the connection in ``finally:``, then\u001b[39;00m\n\u001b[0;32m    726\u001b[0m \u001b[38;5;66;03m# the response doesn't need to know about the connection. Otherwise\u001b[39;00m\n\u001b[0;32m    727\u001b[0m \u001b[38;5;66;03m# it will also try to release it and we'll have a double-release\u001b[39;00m\n\u001b[0;32m    728\u001b[0m \u001b[38;5;66;03m# mess.\u001b[39;00m\n\u001b[0;32m    729\u001b[0m response_conn \u001b[38;5;241m=\u001b[39m conn \u001b[38;5;28;01mif\u001b[39;00m \u001b[38;5;129;01mnot\u001b[39;00m release_conn \u001b[38;5;28;01melse\u001b[39;00m \u001b[38;5;28;01mNone\u001b[39;00m\n",
      "File \u001b[1;32mc:\\Users\\gonza\\Desktop\\Proy-Ana\\ProyAna\\Lib\\site-packages\\urllib3\\connectionpool.py:467\u001b[0m, in \u001b[0;36mHTTPConnectionPool._make_request\u001b[1;34m(self, conn, method, url, timeout, chunked, **httplib_request_kw)\u001b[0m\n\u001b[0;32m    462\u001b[0m             httplib_response \u001b[38;5;241m=\u001b[39m conn\u001b[38;5;241m.\u001b[39mgetresponse()\n\u001b[0;32m    463\u001b[0m         \u001b[38;5;28;01mexcept\u001b[39;00m \u001b[38;5;167;01mBaseException\u001b[39;00m \u001b[38;5;28;01mas\u001b[39;00m e:\n\u001b[0;32m    464\u001b[0m             \u001b[38;5;66;03m# Remove the TypeError from the exception chain in\u001b[39;00m\n\u001b[0;32m    465\u001b[0m             \u001b[38;5;66;03m# Python 3 (including for exceptions like SystemExit).\u001b[39;00m\n\u001b[0;32m    466\u001b[0m             \u001b[38;5;66;03m# Otherwise it looks like a bug in the code.\u001b[39;00m\n\u001b[1;32m--> 467\u001b[0m             \u001b[43msix\u001b[49m\u001b[38;5;241;43m.\u001b[39;49m\u001b[43mraise_from\u001b[49m\u001b[43m(\u001b[49m\u001b[43me\u001b[49m\u001b[43m,\u001b[49m\u001b[43m \u001b[49m\u001b[38;5;28;43;01mNone\u001b[39;49;00m\u001b[43m)\u001b[49m\n\u001b[0;32m    468\u001b[0m \u001b[38;5;28;01mexcept\u001b[39;00m (SocketTimeout, BaseSSLError, SocketError) \u001b[38;5;28;01mas\u001b[39;00m e:\n\u001b[0;32m    469\u001b[0m     \u001b[38;5;28mself\u001b[39m\u001b[38;5;241m.\u001b[39m_raise_timeout(err\u001b[38;5;241m=\u001b[39me, url\u001b[38;5;241m=\u001b[39murl, timeout_value\u001b[38;5;241m=\u001b[39mread_timeout)\n",
      "File \u001b[1;32m<string>:3\u001b[0m, in \u001b[0;36mraise_from\u001b[1;34m(value, from_value)\u001b[0m\n",
      "File \u001b[1;32mc:\\Users\\gonza\\Desktop\\Proy-Ana\\ProyAna\\Lib\\site-packages\\urllib3\\connectionpool.py:462\u001b[0m, in \u001b[0;36mHTTPConnectionPool._make_request\u001b[1;34m(self, conn, method, url, timeout, chunked, **httplib_request_kw)\u001b[0m\n\u001b[0;32m    459\u001b[0m \u001b[38;5;28;01mexcept\u001b[39;00m \u001b[38;5;167;01mTypeError\u001b[39;00m:\n\u001b[0;32m    460\u001b[0m     \u001b[38;5;66;03m# Python 3\u001b[39;00m\n\u001b[0;32m    461\u001b[0m     \u001b[38;5;28;01mtry\u001b[39;00m:\n\u001b[1;32m--> 462\u001b[0m         httplib_response \u001b[38;5;241m=\u001b[39m \u001b[43mconn\u001b[49m\u001b[38;5;241;43m.\u001b[39;49m\u001b[43mgetresponse\u001b[49m\u001b[43m(\u001b[49m\u001b[43m)\u001b[49m\n\u001b[0;32m    463\u001b[0m     \u001b[38;5;28;01mexcept\u001b[39;00m \u001b[38;5;167;01mBaseException\u001b[39;00m \u001b[38;5;28;01mas\u001b[39;00m e:\n\u001b[0;32m    464\u001b[0m         \u001b[38;5;66;03m# Remove the TypeError from the exception chain in\u001b[39;00m\n\u001b[0;32m    465\u001b[0m         \u001b[38;5;66;03m# Python 3 (including for exceptions like SystemExit).\u001b[39;00m\n\u001b[0;32m    466\u001b[0m         \u001b[38;5;66;03m# Otherwise it looks like a bug in the code.\u001b[39;00m\n\u001b[0;32m    467\u001b[0m         six\u001b[38;5;241m.\u001b[39mraise_from(e, \u001b[38;5;28;01mNone\u001b[39;00m)\n",
      "File \u001b[1;32m~\\AppData\\Local\\Programs\\Python\\Python312\\Lib\\http\\client.py:1428\u001b[0m, in \u001b[0;36mHTTPConnection.getresponse\u001b[1;34m(self)\u001b[0m\n\u001b[0;32m   1426\u001b[0m \u001b[38;5;28;01mtry\u001b[39;00m:\n\u001b[0;32m   1427\u001b[0m     \u001b[38;5;28;01mtry\u001b[39;00m:\n\u001b[1;32m-> 1428\u001b[0m         \u001b[43mresponse\u001b[49m\u001b[38;5;241;43m.\u001b[39;49m\u001b[43mbegin\u001b[49m\u001b[43m(\u001b[49m\u001b[43m)\u001b[49m\n\u001b[0;32m   1429\u001b[0m     \u001b[38;5;28;01mexcept\u001b[39;00m \u001b[38;5;167;01mConnectionError\u001b[39;00m:\n\u001b[0;32m   1430\u001b[0m         \u001b[38;5;28mself\u001b[39m\u001b[38;5;241m.\u001b[39mclose()\n",
      "File \u001b[1;32m~\\AppData\\Local\\Programs\\Python\\Python312\\Lib\\http\\client.py:331\u001b[0m, in \u001b[0;36mHTTPResponse.begin\u001b[1;34m(self)\u001b[0m\n\u001b[0;32m    329\u001b[0m \u001b[38;5;66;03m# read until we get a non-100 response\u001b[39;00m\n\u001b[0;32m    330\u001b[0m \u001b[38;5;28;01mwhile\u001b[39;00m \u001b[38;5;28;01mTrue\u001b[39;00m:\n\u001b[1;32m--> 331\u001b[0m     version, status, reason \u001b[38;5;241m=\u001b[39m \u001b[38;5;28;43mself\u001b[39;49m\u001b[38;5;241;43m.\u001b[39;49m\u001b[43m_read_status\u001b[49m\u001b[43m(\u001b[49m\u001b[43m)\u001b[49m\n\u001b[0;32m    332\u001b[0m     \u001b[38;5;28;01mif\u001b[39;00m status \u001b[38;5;241m!=\u001b[39m CONTINUE:\n\u001b[0;32m    333\u001b[0m         \u001b[38;5;28;01mbreak\u001b[39;00m\n",
      "File \u001b[1;32m~\\AppData\\Local\\Programs\\Python\\Python312\\Lib\\http\\client.py:292\u001b[0m, in \u001b[0;36mHTTPResponse._read_status\u001b[1;34m(self)\u001b[0m\n\u001b[0;32m    291\u001b[0m \u001b[38;5;28;01mdef\u001b[39;00m \u001b[38;5;21m_read_status\u001b[39m(\u001b[38;5;28mself\u001b[39m):\n\u001b[1;32m--> 292\u001b[0m     line \u001b[38;5;241m=\u001b[39m \u001b[38;5;28mstr\u001b[39m(\u001b[38;5;28;43mself\u001b[39;49m\u001b[38;5;241;43m.\u001b[39;49m\u001b[43mfp\u001b[49m\u001b[38;5;241;43m.\u001b[39;49m\u001b[43mreadline\u001b[49m\u001b[43m(\u001b[49m\u001b[43m_MAXLINE\u001b[49m\u001b[43m \u001b[49m\u001b[38;5;241;43m+\u001b[39;49m\u001b[43m \u001b[49m\u001b[38;5;241;43m1\u001b[39;49m\u001b[43m)\u001b[49m, \u001b[38;5;124m\"\u001b[39m\u001b[38;5;124miso-8859-1\u001b[39m\u001b[38;5;124m\"\u001b[39m)\n\u001b[0;32m    293\u001b[0m     \u001b[38;5;28;01mif\u001b[39;00m \u001b[38;5;28mlen\u001b[39m(line) \u001b[38;5;241m>\u001b[39m _MAXLINE:\n\u001b[0;32m    294\u001b[0m         \u001b[38;5;28;01mraise\u001b[39;00m LineTooLong(\u001b[38;5;124m\"\u001b[39m\u001b[38;5;124mstatus line\u001b[39m\u001b[38;5;124m\"\u001b[39m)\n",
      "File \u001b[1;32m~\\AppData\\Local\\Programs\\Python\\Python312\\Lib\\socket.py:707\u001b[0m, in \u001b[0;36mSocketIO.readinto\u001b[1;34m(self, b)\u001b[0m\n\u001b[0;32m    705\u001b[0m \u001b[38;5;28;01mwhile\u001b[39;00m \u001b[38;5;28;01mTrue\u001b[39;00m:\n\u001b[0;32m    706\u001b[0m     \u001b[38;5;28;01mtry\u001b[39;00m:\n\u001b[1;32m--> 707\u001b[0m         \u001b[38;5;28;01mreturn\u001b[39;00m \u001b[38;5;28;43mself\u001b[39;49m\u001b[38;5;241;43m.\u001b[39;49m\u001b[43m_sock\u001b[49m\u001b[38;5;241;43m.\u001b[39;49m\u001b[43mrecv_into\u001b[49m\u001b[43m(\u001b[49m\u001b[43mb\u001b[49m\u001b[43m)\u001b[49m\n\u001b[0;32m    708\u001b[0m     \u001b[38;5;28;01mexcept\u001b[39;00m timeout:\n\u001b[0;32m    709\u001b[0m         \u001b[38;5;28mself\u001b[39m\u001b[38;5;241m.\u001b[39m_timeout_occurred \u001b[38;5;241m=\u001b[39m \u001b[38;5;28;01mTrue\u001b[39;00m\n",
      "File \u001b[1;32m~\\AppData\\Local\\Programs\\Python\\Python312\\Lib\\ssl.py:1252\u001b[0m, in \u001b[0;36mSSLSocket.recv_into\u001b[1;34m(self, buffer, nbytes, flags)\u001b[0m\n\u001b[0;32m   1248\u001b[0m     \u001b[38;5;28;01mif\u001b[39;00m flags \u001b[38;5;241m!=\u001b[39m \u001b[38;5;241m0\u001b[39m:\n\u001b[0;32m   1249\u001b[0m         \u001b[38;5;28;01mraise\u001b[39;00m \u001b[38;5;167;01mValueError\u001b[39;00m(\n\u001b[0;32m   1250\u001b[0m           \u001b[38;5;124m\"\u001b[39m\u001b[38;5;124mnon-zero flags not allowed in calls to recv_into() on \u001b[39m\u001b[38;5;132;01m%s\u001b[39;00m\u001b[38;5;124m\"\u001b[39m \u001b[38;5;241m%\u001b[39m\n\u001b[0;32m   1251\u001b[0m           \u001b[38;5;28mself\u001b[39m\u001b[38;5;241m.\u001b[39m\u001b[38;5;18m__class__\u001b[39m)\n\u001b[1;32m-> 1252\u001b[0m     \u001b[38;5;28;01mreturn\u001b[39;00m \u001b[38;5;28;43mself\u001b[39;49m\u001b[38;5;241;43m.\u001b[39;49m\u001b[43mread\u001b[49m\u001b[43m(\u001b[49m\u001b[43mnbytes\u001b[49m\u001b[43m,\u001b[49m\u001b[43m \u001b[49m\u001b[43mbuffer\u001b[49m\u001b[43m)\u001b[49m\n\u001b[0;32m   1253\u001b[0m \u001b[38;5;28;01melse\u001b[39;00m:\n\u001b[0;32m   1254\u001b[0m     \u001b[38;5;28;01mreturn\u001b[39;00m \u001b[38;5;28msuper\u001b[39m()\u001b[38;5;241m.\u001b[39mrecv_into(buffer, nbytes, flags)\n",
      "File \u001b[1;32m~\\AppData\\Local\\Programs\\Python\\Python312\\Lib\\ssl.py:1104\u001b[0m, in \u001b[0;36mSSLSocket.read\u001b[1;34m(self, len, buffer)\u001b[0m\n\u001b[0;32m   1102\u001b[0m \u001b[38;5;28;01mtry\u001b[39;00m:\n\u001b[0;32m   1103\u001b[0m     \u001b[38;5;28;01mif\u001b[39;00m buffer \u001b[38;5;129;01mis\u001b[39;00m \u001b[38;5;129;01mnot\u001b[39;00m \u001b[38;5;28;01mNone\u001b[39;00m:\n\u001b[1;32m-> 1104\u001b[0m         \u001b[38;5;28;01mreturn\u001b[39;00m \u001b[38;5;28;43mself\u001b[39;49m\u001b[38;5;241;43m.\u001b[39;49m\u001b[43m_sslobj\u001b[49m\u001b[38;5;241;43m.\u001b[39;49m\u001b[43mread\u001b[49m\u001b[43m(\u001b[49m\u001b[38;5;28;43mlen\u001b[39;49m\u001b[43m,\u001b[49m\u001b[43m \u001b[49m\u001b[43mbuffer\u001b[49m\u001b[43m)\u001b[49m\n\u001b[0;32m   1105\u001b[0m     \u001b[38;5;28;01melse\u001b[39;00m:\n\u001b[0;32m   1106\u001b[0m         \u001b[38;5;28;01mreturn\u001b[39;00m \u001b[38;5;28mself\u001b[39m\u001b[38;5;241m.\u001b[39m_sslobj\u001b[38;5;241m.\u001b[39mread(\u001b[38;5;28mlen\u001b[39m)\n",
      "\u001b[1;31mKeyboardInterrupt\u001b[0m: "
     ]
    }
   ],
   "source": [
    "with ThreadPoolExecutor() as executor, open(\"peru21.csv\", 'w', encoding='UTF-8') as doc_csv:\n",
    "    doc_csv.write(\"link^^headline^^bajada^^antetitulo^^cuerpo^^dia^^etiquetas\\n\")\n",
    "    for result in executor.map(fetch_content, links):\n",
    "        if result:\n",
    "            doc_csv.write(f\"{'^^'.join(result)}\\n\")"
   ]
  },
  {
   "cell_type": "code",
   "execution_count": null,
   "metadata": {},
   "outputs": [],
   "source": [
    "def extract_data(link):\n",
    "    try:\n",
    "        response = requests.get(link)\n",
    "        soup = BeautifulSoup(response.content, 'html.parser')\n",
    "\n",
    "        headline_tag = soup.find('h1', itemprop='name')\n",
    "        headline = headline_tag.text.strip() if headline_tag else ''\n",
    "\n",
    "        paragraphs = soup.find_all('p', itemprop='description')\n",
    "        article_body = ' '.join(paragraph.text.strip() for paragraph in paragraphs)\n",
    "\n",
    "        date_tag = soup.find('time')\n",
    "        date = date_tag['datetime'] if date_tag else ''\n",
    "        try:\n",
    "            date = datetime.fromisoformat(date).strftime('%d-%m-%Y')\n",
    "        except ValueError:\n",
    "            try:\n",
    "                date = datetime.strptime(date, '%a %b %d %Y %H:%M:%S GMT%z (%Z)').strftime('%d-%m-%Y')\n",
    "            except ValueError:\n",
    "                pass\n",
    "\n",
    "        tags_tag = soup.find('div', class_='st-tags__box')\n",
    "        tags = set(tag.text for tag in tags_tag.find_all('a')) if tags_tag else set()\n",
    "        tags_str = ', '.join(tags)\n",
    "\n",
    "        bajada_tag = soup.find('h2', class_='sht__summary')\n",
    "        bajada = bajada_tag.text.strip() if bajada_tag else ''\n",
    "\n",
    "        antetitulo_tag = soup.find('div', class_='st-social f just-between')\n",
    "        antetitulo = antetitulo_tag.text.strip() if antetitulo_tag else ''\n",
    "\n",
    "        return (link, headline.replace('\\n', ''), bajada.replace('\\n', ''), antetitulo.replace('\\n', ''), article_body.replace('\\n', ''), date, tags_str)\n",
    "    except Exception as e:\n",
    "        print(f\"Error processing {link}: {e}\")\n",
    "        return None\n",
    "\n",
    "with ThreadPoolExecutor() as executor, open(\"peru21.csv\", 'a', encoding='UTF-8') as doc_csv:\n",
    "    for result in executor.map(extract_data, links):\n",
    "        if result:\n",
    "            doc_csv.write(f\"{';'.join(result)}\\n\")"
   ]
  }
 ],
 "metadata": {
  "kernelspec": {
   "display_name": "ProyAna",
   "language": "python",
   "name": "python3"
  },
  "language_info": {
   "codemirror_mode": {
    "name": "ipython",
    "version": 3
   },
   "file_extension": ".py",
   "mimetype": "text/x-python",
   "name": "python",
   "nbconvert_exporter": "python",
   "pygments_lexer": "ipython3",
   "version": "3.12.3"
  }
 },
 "nbformat": 4,
 "nbformat_minor": 2
}
