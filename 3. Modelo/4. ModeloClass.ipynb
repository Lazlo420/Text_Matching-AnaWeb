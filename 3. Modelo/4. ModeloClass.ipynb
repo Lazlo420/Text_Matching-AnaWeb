{
 "cells": [
  {
   "cell_type": "code",
   "execution_count": 132,
   "metadata": {},
   "outputs": [
    {
     "name": "stderr",
     "output_type": "stream",
     "text": [
      "<>:6: SyntaxWarning: invalid escape sequence '\\w'\n",
      "<>:6: SyntaxWarning: invalid escape sequence '\\w'\n",
      "C:\\Users\\gonza\\AppData\\Local\\Temp\\ipykernel_11168\\1813889185.py:6: SyntaxWarning: invalid escape sequence '\\w'\n",
      "  model=w2v.load(\"Modelo2(pucio)\\w2v_model.model\")\n"
     ]
    }
   ],
   "source": [
    "import pandas as pd\n",
    "import numpy as np\n",
    "from scipy.spatial.distance import cosine\n",
    "from gensim.models import Word2Vec as w2v\n",
    "\n",
    "model=w2v.load(\"Modelo2(pucio)\\w2v_model.model\")\n",
    "def vectorizar(oracion):\n",
    "    vector_palabras=[model.wv[palabra] for palabra in oracion if palabra in model.wv]\n",
    "    if vector_palabras:  # Asegurar que la oración tenga al menos una palabra en el modelo\n",
    "        representacion_oracion = np.mean(vector_palabras, axis=0)\n",
    "        return representacion_oracion\n",
    "    else:\n",
    "        return np.zeros(100)\n",
    "    \n",
    "def dist_cos(vectors):\n",
    "    vector_1, vector_2 = vectors\n",
    "    return cosine(vector_1, vector_2)"
   ]
  },
  {
   "cell_type": "markdown",
   "metadata": {},
   "source": [
    "## Arreglamos pares de noticias (verdaderos)"
   ]
  },
  {
   "cell_type": "code",
   "execution_count": 133,
   "metadata": {},
   "outputs": [],
   "source": [
    "df=pd.read_csv(\"pares.csv\")"
   ]
  },
  {
   "cell_type": "code",
   "execution_count": 134,
   "metadata": {},
   "outputs": [
    {
     "name": "stderr",
     "output_type": "stream",
     "text": [
      "C:\\Users\\gonza\\AppData\\Local\\Temp\\ipykernel_11168\\1548254662.py:2: SettingWithCopyWarning: \n",
      "A value is trying to be set on a copy of a slice from a DataFrame.\n",
      "Try using .loc[row_indexer,col_indexer] = value instead\n",
      "\n",
      "See the caveats in the documentation: https://pandas.pydata.org/pandas-docs/stable/user_guide/indexing.html#returning-a-view-versus-a-copy\n",
      "  df_modelo_det['label']=True\n"
     ]
    },
    {
     "data": {
      "text/html": [
       "<div>\n",
       "<style scoped>\n",
       "    .dataframe tbody tr th:only-of-type {\n",
       "        vertical-align: middle;\n",
       "    }\n",
       "\n",
       "    .dataframe tbody tr th {\n",
       "        vertical-align: top;\n",
       "    }\n",
       "\n",
       "    .dataframe thead th {\n",
       "        text-align: right;\n",
       "    }\n",
       "</style>\n",
       "<table border=\"1\" class=\"dataframe\">\n",
       "  <thead>\n",
       "    <tr style=\"text-align: right;\">\n",
       "      <th></th>\n",
       "      <th>noticia_link_1</th>\n",
       "      <th>noticia_cuerpo_1</th>\n",
       "      <th>noticia_link_2</th>\n",
       "      <th>noticia_cuerpo_2</th>\n",
       "      <th>label</th>\n",
       "    </tr>\n",
       "  </thead>\n",
       "  <tbody>\n",
       "    <tr>\n",
       "      <th>0</th>\n",
       "      <td>https://peru21.pe/deportes/futbol-peruano/univ...</td>\n",
       "      <td>apenas expulsaron arquimides figuera minutos n...</td>\n",
       "      <td>https://elcomercio.pe/deporte-total/universita...</td>\n",
       "      <td>nicolas cordoba vio situacion impensada result...</td>\n",
       "      <td>True</td>\n",
       "    </tr>\n",
       "    <tr>\n",
       "      <th>1</th>\n",
       "      <td>https://peru21.pe/deportes/futbol-peruano/univ...</td>\n",
       "      <td>minutos final universitario deportes quedo die...</td>\n",
       "      <td>https://elcomercio.pe/deporte-total/universita...</td>\n",
       "      <td>universitario obtenia gran resultado arequipa ...</td>\n",
       "      <td>True</td>\n",
       "    </tr>\n",
       "    <tr>\n",
       "      <th>2</th>\n",
       "      <td>https://peru21.pe/deportes/futbol-peruano/melg...</td>\n",
       "      <td>delantero argentino german denis debuto sabado...</td>\n",
       "      <td>https://elcomercio.pe/deporte-total/futbol-per...</td>\n",
       "      <td>delantero argentino german denis debuto sabado...</td>\n",
       "      <td>True</td>\n",
       "    </tr>\n",
       "    <tr>\n",
       "      <th>3</th>\n",
       "      <td>https://peru21.pe/deportes/universitario-depor...</td>\n",
       "      <td>actualizacionuniversitario deportes dejo volte...</td>\n",
       "      <td>https://elcomercio.pe/deporte-total/universita...</td>\n",
       "      <td>universitario deportes cayo visita fbc melgar ...</td>\n",
       "      <td>True</td>\n",
       "    </tr>\n",
       "    <tr>\n",
       "      <th>4</th>\n",
       "      <td>https://peru21.pe/mundo/medio-oriente/siria-ru...</td>\n",
       "      <td>aviones rusos bombardearon posiciones rebeldes...</td>\n",
       "      <td>https://peru21.pe/mundo/medio-oriente/rusia-in...</td>\n",
       "      <td>aviacion rusa lanzo hoy alrededor ataques aere...</td>\n",
       "      <td>True</td>\n",
       "    </tr>\n",
       "  </tbody>\n",
       "</table>\n",
       "</div>"
      ],
      "text/plain": [
       "                                      noticia_link_1  \\\n",
       "0  https://peru21.pe/deportes/futbol-peruano/univ...   \n",
       "1  https://peru21.pe/deportes/futbol-peruano/univ...   \n",
       "2  https://peru21.pe/deportes/futbol-peruano/melg...   \n",
       "3  https://peru21.pe/deportes/universitario-depor...   \n",
       "4  https://peru21.pe/mundo/medio-oriente/siria-ru...   \n",
       "\n",
       "                                    noticia_cuerpo_1  \\\n",
       "0  apenas expulsaron arquimides figuera minutos n...   \n",
       "1  minutos final universitario deportes quedo die...   \n",
       "2  delantero argentino german denis debuto sabado...   \n",
       "3  actualizacionuniversitario deportes dejo volte...   \n",
       "4  aviones rusos bombardearon posiciones rebeldes...   \n",
       "\n",
       "                                      noticia_link_2  \\\n",
       "0  https://elcomercio.pe/deporte-total/universita...   \n",
       "1  https://elcomercio.pe/deporte-total/universita...   \n",
       "2  https://elcomercio.pe/deporte-total/futbol-per...   \n",
       "3  https://elcomercio.pe/deporte-total/universita...   \n",
       "4  https://peru21.pe/mundo/medio-oriente/rusia-in...   \n",
       "\n",
       "                                    noticia_cuerpo_2  label  \n",
       "0  nicolas cordoba vio situacion impensada result...   True  \n",
       "1  universitario obtenia gran resultado arequipa ...   True  \n",
       "2  delantero argentino german denis debuto sabado...   True  \n",
       "3  universitario deportes cayo visita fbc melgar ...   True  \n",
       "4  aviacion rusa lanzo hoy alrededor ataques aere...   True  "
      ]
     },
     "execution_count": 134,
     "metadata": {},
     "output_type": "execute_result"
    }
   ],
   "source": [
    "df_modelo_det=df[['noticia_link_1','noticia_cuerpo_1','noticia_link_2','noticia_cuerpo_2']]\n",
    "df_modelo_det['label']=True\n",
    "df_modelo_det.head()"
   ]
  },
  {
   "cell_type": "code",
   "execution_count": 135,
   "metadata": {},
   "outputs": [
    {
     "name": "stderr",
     "output_type": "stream",
     "text": [
      "C:\\Users\\gonza\\AppData\\Local\\Temp\\ipykernel_11168\\2086623094.py:1: SettingWithCopyWarning: \n",
      "A value is trying to be set on a copy of a slice from a DataFrame.\n",
      "Try using .loc[row_indexer,col_indexer] = value instead\n",
      "\n",
      "See the caveats in the documentation: https://pandas.pydata.org/pandas-docs/stable/user_guide/indexing.html#returning-a-view-versus-a-copy\n",
      "  df_modelo_det['vector_1']=df_modelo_det['noticia_cuerpo_1'].apply(vectorizar)\n",
      "C:\\Users\\gonza\\AppData\\Local\\Temp\\ipykernel_11168\\2086623094.py:2: SettingWithCopyWarning: \n",
      "A value is trying to be set on a copy of a slice from a DataFrame.\n",
      "Try using .loc[row_indexer,col_indexer] = value instead\n",
      "\n",
      "See the caveats in the documentation: https://pandas.pydata.org/pandas-docs/stable/user_guide/indexing.html#returning-a-view-versus-a-copy\n",
      "  df_modelo_det['vector_2']=df_modelo_det['noticia_cuerpo_2'].apply(vectorizar)\n"
     ]
    }
   ],
   "source": [
    "df_modelo_det['vector_1']=df_modelo_det['noticia_cuerpo_1'].apply(vectorizar)\n",
    "df_modelo_det['vector_2']=df_modelo_det['noticia_cuerpo_2'].apply(vectorizar)"
   ]
  },
  {
   "cell_type": "code",
   "execution_count": 136,
   "metadata": {},
   "outputs": [
    {
     "data": {
      "text/html": [
       "<div>\n",
       "<style scoped>\n",
       "    .dataframe tbody tr th:only-of-type {\n",
       "        vertical-align: middle;\n",
       "    }\n",
       "\n",
       "    .dataframe tbody tr th {\n",
       "        vertical-align: top;\n",
       "    }\n",
       "\n",
       "    .dataframe thead th {\n",
       "        text-align: right;\n",
       "    }\n",
       "</style>\n",
       "<table border=\"1\" class=\"dataframe\">\n",
       "  <thead>\n",
       "    <tr style=\"text-align: right;\">\n",
       "      <th></th>\n",
       "      <th>noticia_link_1</th>\n",
       "      <th>noticia_cuerpo_1</th>\n",
       "      <th>noticia_link_2</th>\n",
       "      <th>noticia_cuerpo_2</th>\n",
       "      <th>label</th>\n",
       "      <th>vector_1</th>\n",
       "      <th>vector_2</th>\n",
       "    </tr>\n",
       "  </thead>\n",
       "  <tbody>\n",
       "    <tr>\n",
       "      <th>0</th>\n",
       "      <td>https://peru21.pe/deportes/futbol-peruano/univ...</td>\n",
       "      <td>apenas expulsaron arquimides figuera minutos n...</td>\n",
       "      <td>https://elcomercio.pe/deporte-total/universita...</td>\n",
       "      <td>nicolas cordoba vio situacion impensada result...</td>\n",
       "      <td>True</td>\n",
       "      <td>[-0.006305588, 0.35444927, 0.24323046, 0.19483...</td>\n",
       "      <td>[-0.007704876, 0.36249253, 0.2449795, 0.196204...</td>\n",
       "    </tr>\n",
       "    <tr>\n",
       "      <th>1</th>\n",
       "      <td>https://peru21.pe/deportes/futbol-peruano/univ...</td>\n",
       "      <td>minutos final universitario deportes quedo die...</td>\n",
       "      <td>https://elcomercio.pe/deporte-total/universita...</td>\n",
       "      <td>universitario obtenia gran resultado arequipa ...</td>\n",
       "      <td>True</td>\n",
       "      <td>[0.0070322617, 0.3425468, 0.24852908, 0.199710...</td>\n",
       "      <td>[0.0071319356, 0.33965188, 0.2517617, 0.198077...</td>\n",
       "    </tr>\n",
       "    <tr>\n",
       "      <th>2</th>\n",
       "      <td>https://peru21.pe/deportes/futbol-peruano/melg...</td>\n",
       "      <td>delantero argentino german denis debuto sabado...</td>\n",
       "      <td>https://elcomercio.pe/deporte-total/futbol-per...</td>\n",
       "      <td>delantero argentino german denis debuto sabado...</td>\n",
       "      <td>True</td>\n",
       "      <td>[-0.017571079, 0.34671143, 0.24663553, 0.21241...</td>\n",
       "      <td>[-0.015323356, 0.3460758, 0.24498166, 0.212715...</td>\n",
       "    </tr>\n",
       "    <tr>\n",
       "      <th>3</th>\n",
       "      <td>https://peru21.pe/deportes/universitario-depor...</td>\n",
       "      <td>actualizacionuniversitario deportes dejo volte...</td>\n",
       "      <td>https://elcomercio.pe/deporte-total/universita...</td>\n",
       "      <td>universitario deportes cayo visita fbc melgar ...</td>\n",
       "      <td>True</td>\n",
       "      <td>[-0.0052936445, 0.3518288, 0.25134522, 0.20457...</td>\n",
       "      <td>[-0.004430492, 0.35209692, 0.26166666, 0.20485...</td>\n",
       "    </tr>\n",
       "    <tr>\n",
       "      <th>4</th>\n",
       "      <td>https://peru21.pe/mundo/medio-oriente/siria-ru...</td>\n",
       "      <td>aviones rusos bombardearon posiciones rebeldes...</td>\n",
       "      <td>https://peru21.pe/mundo/medio-oriente/rusia-in...</td>\n",
       "      <td>aviacion rusa lanzo hoy alrededor ataques aere...</td>\n",
       "      <td>True</td>\n",
       "      <td>[0.0005676896, 0.32807365, 0.24815297, 0.20244...</td>\n",
       "      <td>[-0.011992177, 0.341866, 0.25247806, 0.2045655...</td>\n",
       "    </tr>\n",
       "  </tbody>\n",
       "</table>\n",
       "</div>"
      ],
      "text/plain": [
       "                                      noticia_link_1  \\\n",
       "0  https://peru21.pe/deportes/futbol-peruano/univ...   \n",
       "1  https://peru21.pe/deportes/futbol-peruano/univ...   \n",
       "2  https://peru21.pe/deportes/futbol-peruano/melg...   \n",
       "3  https://peru21.pe/deportes/universitario-depor...   \n",
       "4  https://peru21.pe/mundo/medio-oriente/siria-ru...   \n",
       "\n",
       "                                    noticia_cuerpo_1  \\\n",
       "0  apenas expulsaron arquimides figuera minutos n...   \n",
       "1  minutos final universitario deportes quedo die...   \n",
       "2  delantero argentino german denis debuto sabado...   \n",
       "3  actualizacionuniversitario deportes dejo volte...   \n",
       "4  aviones rusos bombardearon posiciones rebeldes...   \n",
       "\n",
       "                                      noticia_link_2  \\\n",
       "0  https://elcomercio.pe/deporte-total/universita...   \n",
       "1  https://elcomercio.pe/deporte-total/universita...   \n",
       "2  https://elcomercio.pe/deporte-total/futbol-per...   \n",
       "3  https://elcomercio.pe/deporte-total/universita...   \n",
       "4  https://peru21.pe/mundo/medio-oriente/rusia-in...   \n",
       "\n",
       "                                    noticia_cuerpo_2  label  \\\n",
       "0  nicolas cordoba vio situacion impensada result...   True   \n",
       "1  universitario obtenia gran resultado arequipa ...   True   \n",
       "2  delantero argentino german denis debuto sabado...   True   \n",
       "3  universitario deportes cayo visita fbc melgar ...   True   \n",
       "4  aviacion rusa lanzo hoy alrededor ataques aere...   True   \n",
       "\n",
       "                                            vector_1  \\\n",
       "0  [-0.006305588, 0.35444927, 0.24323046, 0.19483...   \n",
       "1  [0.0070322617, 0.3425468, 0.24852908, 0.199710...   \n",
       "2  [-0.017571079, 0.34671143, 0.24663553, 0.21241...   \n",
       "3  [-0.0052936445, 0.3518288, 0.25134522, 0.20457...   \n",
       "4  [0.0005676896, 0.32807365, 0.24815297, 0.20244...   \n",
       "\n",
       "                                            vector_2  \n",
       "0  [-0.007704876, 0.36249253, 0.2449795, 0.196204...  \n",
       "1  [0.0071319356, 0.33965188, 0.2517617, 0.198077...  \n",
       "2  [-0.015323356, 0.3460758, 0.24498166, 0.212715...  \n",
       "3  [-0.004430492, 0.35209692, 0.26166666, 0.20485...  \n",
       "4  [-0.011992177, 0.341866, 0.25247806, 0.2045655...  "
      ]
     },
     "execution_count": 136,
     "metadata": {},
     "output_type": "execute_result"
    }
   ],
   "source": [
    "df_modelo_det.head()"
   ]
  },
  {
   "cell_type": "code",
   "execution_count": 137,
   "metadata": {},
   "outputs": [
    {
     "name": "stderr",
     "output_type": "stream",
     "text": [
      "c:\\Users\\gonza\\OneDrive - Universidad del Pacífico\\Material\\Ciclo VIII\\Analitica de la web\\Proy-Ana\\ProyAna\\Lib\\site-packages\\scipy\\spatial\\distance.py:647: RuntimeWarning: invalid value encountered in scalar divide\n",
      "  dist = 1.0 - uv / math.sqrt(uu * vv)\n"
     ]
    },
    {
     "data": {
      "text/html": [
       "<div>\n",
       "<style scoped>\n",
       "    .dataframe tbody tr th:only-of-type {\n",
       "        vertical-align: middle;\n",
       "    }\n",
       "\n",
       "    .dataframe tbody tr th {\n",
       "        vertical-align: top;\n",
       "    }\n",
       "\n",
       "    .dataframe thead th {\n",
       "        text-align: right;\n",
       "    }\n",
       "</style>\n",
       "<table border=\"1\" class=\"dataframe\">\n",
       "  <thead>\n",
       "    <tr style=\"text-align: right;\">\n",
       "      <th></th>\n",
       "      <th>vector</th>\n",
       "      <th>distance</th>\n",
       "      <th>label</th>\n",
       "    </tr>\n",
       "  </thead>\n",
       "  <tbody>\n",
       "    <tr>\n",
       "      <th>0</th>\n",
       "      <td>[-0.006305588, 0.35444927, 0.24323046, 0.19483...</td>\n",
       "      <td>0.000163</td>\n",
       "      <td>True</td>\n",
       "    </tr>\n",
       "    <tr>\n",
       "      <th>1</th>\n",
       "      <td>[0.0070322617, 0.3425468, 0.24852908, 0.199710...</td>\n",
       "      <td>0.000080</td>\n",
       "      <td>True</td>\n",
       "    </tr>\n",
       "    <tr>\n",
       "      <th>2</th>\n",
       "      <td>[-0.017571079, 0.34671143, 0.24663553, 0.21241...</td>\n",
       "      <td>0.000013</td>\n",
       "      <td>True</td>\n",
       "    </tr>\n",
       "    <tr>\n",
       "      <th>3</th>\n",
       "      <td>[-0.0052936445, 0.3518288, 0.25134522, 0.20457...</td>\n",
       "      <td>0.000180</td>\n",
       "      <td>True</td>\n",
       "    </tr>\n",
       "    <tr>\n",
       "      <th>4</th>\n",
       "      <td>[0.0005676896, 0.32807365, 0.24815297, 0.20244...</td>\n",
       "      <td>0.000743</td>\n",
       "      <td>True</td>\n",
       "    </tr>\n",
       "  </tbody>\n",
       "</table>\n",
       "</div>"
      ],
      "text/plain": [
       "                                              vector  distance  label\n",
       "0  [-0.006305588, 0.35444927, 0.24323046, 0.19483...  0.000163   True\n",
       "1  [0.0070322617, 0.3425468, 0.24852908, 0.199710...  0.000080   True\n",
       "2  [-0.017571079, 0.34671143, 0.24663553, 0.21241...  0.000013   True\n",
       "3  [-0.0052936445, 0.3518288, 0.25134522, 0.20457...  0.000180   True\n",
       "4  [0.0005676896, 0.32807365, 0.24815297, 0.20244...  0.000743   True"
      ]
     },
     "execution_count": 137,
     "metadata": {},
     "output_type": "execute_result"
    }
   ],
   "source": [
    "df_modelo_truers=pd.DataFrame()\n",
    "df_modelo_truers['vector'] = df_modelo_det.apply(lambda row: np.concatenate((row['vector_1'], row['vector_2'])), axis=1)\n",
    "df_modelo_truers['distance'] = df_modelo_det.apply(lambda row: dist_cos((row['vector_1'], row['vector_2'])), axis=1)\n",
    "df_modelo_truers['label']=True\n",
    "df_modelo_truers.head()"
   ]
  },
  {
   "cell_type": "markdown",
   "metadata": {},
   "source": [
    "## Arreglamos pares de noticias (falsos)"
   ]
  },
  {
   "cell_type": "code",
   "execution_count": 138,
   "metadata": {},
   "outputs": [
    {
     "data": {
      "text/plain": [
       "(216577, 7)"
      ]
     },
     "execution_count": 138,
     "metadata": {},
     "output_type": "execute_result"
    }
   ],
   "source": [
    "comercio = pd.read_csv(\"../Contenido/comercio_df1.txt\")\n",
    "correo = pd.read_csv(\"../Contenido/correo_df1.txt\")\n",
    "p21 = pd.read_csv(\"../Contenido/peru21_df1.txt\")\n",
    "gen=pd.concat([comercio,correo,p21],axis=0)\n",
    "gen.shape"
   ]
  },
  {
   "cell_type": "code",
   "execution_count": 139,
   "metadata": {},
   "outputs": [
    {
     "data": {
      "text/html": [
       "<div>\n",
       "<style scoped>\n",
       "    .dataframe tbody tr th:only-of-type {\n",
       "        vertical-align: middle;\n",
       "    }\n",
       "\n",
       "    .dataframe tbody tr th {\n",
       "        vertical-align: top;\n",
       "    }\n",
       "\n",
       "    .dataframe thead th {\n",
       "        text-align: right;\n",
       "    }\n",
       "</style>\n",
       "<table border=\"1\" class=\"dataframe\">\n",
       "  <thead>\n",
       "    <tr style=\"text-align: right;\">\n",
       "      <th></th>\n",
       "      <th>link</th>\n",
       "      <th>headline</th>\n",
       "      <th>bajada</th>\n",
       "      <th>antetitulo</th>\n",
       "      <th>cuerpo</th>\n",
       "      <th>dia</th>\n",
       "      <th>etiquetas</th>\n",
       "    </tr>\n",
       "  </thead>\n",
       "  <tbody>\n",
       "    <tr>\n",
       "      <th>39389</th>\n",
       "      <td>https://elcomercio.pe/mundial/peru-jugara-suec...</td>\n",
       "      <td>peru jugara suecia semana mundial rusia</td>\n",
       "      <td>seleccion peruana confirmo jugara amistoso sue...</td>\n",
       "      <td>Mundial</td>\n",
       "      <td>fpf concreto amistoso mas peru cara mundial ru...</td>\n",
       "      <td>2018-02-01</td>\n",
       "      <td>Rusia 2018, Selección peruana</td>\n",
       "    </tr>\n",
       "    <tr>\n",
       "      <th>39390</th>\n",
       "      <td>https://elcomercio.pe/peru/paro-agrario-panora...</td>\n",
       "      <td>paro agrario panorama regiones protestan</td>\n",
       "      <td>comuneros deandaymarca huancavelica amenazaron...</td>\n",
       "      <td>Perú</td>\n",
       "      <td>tras dos muertes dejaron ayer enfrentamientos ...</td>\n",
       "      <td>2018-02-01</td>\n",
       "      <td>paro agrario, Junín, Huancavelica</td>\n",
       "    </tr>\n",
       "    <tr>\n",
       "      <th>39391</th>\n",
       "      <td>https://elcomercio.pe/mundo/actualidad/youtube...</td>\n",
       "      <td>youtuber logan paul ironicamente dicen suicide</td>\n",
       "      <td>bloguero estadounidense recordado polemico vid...</td>\n",
       "      <td>Actualidad</td>\n",
       "      <td>vez mas polemico youtuber logan paul pronuncia...</td>\n",
       "      <td>2018-02-01</td>\n",
       "      <td>Logan Paul, YouTube</td>\n",
       "    </tr>\n",
       "    <tr>\n",
       "      <th>39392</th>\n",
       "      <td>https://elcomercio.pe/tecnologia/ciencias/rusi...</td>\n",
       "      <td>fenomeno hizo subieran grados siberia</td>\n",
       "      <td>fenomeno precedentes hizo temperatura siberia ...</td>\n",
       "      <td>NaN</td>\n",
       "      <td>hace unas semanas informabamos bbc mundo vida ...</td>\n",
       "      <td>2018-02-01</td>\n",
       "      <td>Rusia, Ciencias, BBC</td>\n",
       "    </tr>\n",
       "    <tr>\n",
       "      <th>39393</th>\n",
       "      <td>https://elcomercio.pe/tvmas/series/dragon-ball...</td>\n",
       "      <td>dragon ball super revela sinopsis episodio</td>\n",
       "      <td>revista especializada comparte informacion enc...</td>\n",
       "      <td>Series</td>\n",
       "      <td>acera final dragon ball super torneo poder tod...</td>\n",
       "      <td>2018-02-01</td>\n",
       "      <td>Dragon Ball, Dragon Ball Super</td>\n",
       "    </tr>\n",
       "  </tbody>\n",
       "</table>\n",
       "</div>"
      ],
      "text/plain": [
       "                                                    link  \\\n",
       "39389  https://elcomercio.pe/mundial/peru-jugara-suec...   \n",
       "39390  https://elcomercio.pe/peru/paro-agrario-panora...   \n",
       "39391  https://elcomercio.pe/mundo/actualidad/youtube...   \n",
       "39392  https://elcomercio.pe/tecnologia/ciencias/rusi...   \n",
       "39393  https://elcomercio.pe/tvmas/series/dragon-ball...   \n",
       "\n",
       "                                             headline  \\\n",
       "39389         peru jugara suecia semana mundial rusia   \n",
       "39390        paro agrario panorama regiones protestan   \n",
       "39391  youtuber logan paul ironicamente dicen suicide   \n",
       "39392           fenomeno hizo subieran grados siberia   \n",
       "39393      dragon ball super revela sinopsis episodio   \n",
       "\n",
       "                                                  bajada  antetitulo  \\\n",
       "39389  seleccion peruana confirmo jugara amistoso sue...     Mundial   \n",
       "39390  comuneros deandaymarca huancavelica amenazaron...        Perú   \n",
       "39391  bloguero estadounidense recordado polemico vid...  Actualidad   \n",
       "39392  fenomeno precedentes hizo temperatura siberia ...         NaN   \n",
       "39393  revista especializada comparte informacion enc...      Series   \n",
       "\n",
       "                                                  cuerpo         dia  \\\n",
       "39389  fpf concreto amistoso mas peru cara mundial ru...  2018-02-01   \n",
       "39390  tras dos muertes dejaron ayer enfrentamientos ...  2018-02-01   \n",
       "39391  vez mas polemico youtuber logan paul pronuncia...  2018-02-01   \n",
       "39392  hace unas semanas informabamos bbc mundo vida ...  2018-02-01   \n",
       "39393  acera final dragon ball super torneo poder tod...  2018-02-01   \n",
       "\n",
       "                               etiquetas  \n",
       "39389      Rusia 2018, Selección peruana  \n",
       "39390  paro agrario, Junín, Huancavelica  \n",
       "39391                Logan Paul, YouTube  \n",
       "39392               Rusia, Ciencias, BBC  \n",
       "39393     Dragon Ball, Dragon Ball Super  "
      ]
     },
     "execution_count": 139,
     "metadata": {},
     "output_type": "execute_result"
    }
   ],
   "source": [
    "##periodo de tiempo\n",
    "inicio='2018-02-01'\n",
    "fin='2018-02-15'\n",
    "df1=gen[(gen['dia']<=fin)&(gen['dia']>=inicio)]\n",
    "df1.head()"
   ]
  },
  {
   "cell_type": "code",
   "execution_count": 140,
   "metadata": {},
   "outputs": [],
   "source": [
    "df_false=df1[['link','cuerpo']]"
   ]
  },
  {
   "cell_type": "code",
   "execution_count": 141,
   "metadata": {},
   "outputs": [
    {
     "data": {
      "text/plain": [
       "(4932, 2)"
      ]
     },
     "execution_count": 141,
     "metadata": {},
     "output_type": "execute_result"
    }
   ],
   "source": [
    "df_false.shape"
   ]
  },
  {
   "cell_type": "code",
   "execution_count": 142,
   "metadata": {},
   "outputs": [
    {
     "data": {
      "text/html": [
       "<div>\n",
       "<style scoped>\n",
       "    .dataframe tbody tr th:only-of-type {\n",
       "        vertical-align: middle;\n",
       "    }\n",
       "\n",
       "    .dataframe tbody tr th {\n",
       "        vertical-align: top;\n",
       "    }\n",
       "\n",
       "    .dataframe thead th {\n",
       "        text-align: right;\n",
       "    }\n",
       "</style>\n",
       "<table border=\"1\" class=\"dataframe\">\n",
       "  <thead>\n",
       "    <tr style=\"text-align: right;\">\n",
       "      <th></th>\n",
       "      <th>link</th>\n",
       "      <th>headline</th>\n",
       "      <th>bajada</th>\n",
       "      <th>antetitulo</th>\n",
       "      <th>cuerpo</th>\n",
       "      <th>dia</th>\n",
       "      <th>etiquetas</th>\n",
       "    </tr>\n",
       "  </thead>\n",
       "  <tbody>\n",
       "    <tr>\n",
       "      <th>2995</th>\n",
       "      <td>https://elcomercio.pe/politica/congreso/grupo-...</td>\n",
       "      <td>grupo congreso aprueba segundo paquete decretos</td>\n",
       "      <td>subgrupo comision constitucion aprobo informes...</td>\n",
       "      <td>Congreso</td>\n",
       "      <td>grupo comision constitucion congreso viene rev...</td>\n",
       "      <td>2017-02-01</td>\n",
       "      <td>Facultades legislativas</td>\n",
       "    </tr>\n",
       "    <tr>\n",
       "      <th>2996</th>\n",
       "      <td>https://elcomercio.pe/politica/congreso/grupo-...</td>\n",
       "      <td>grupo congreso aprueba segundo paquete decretos</td>\n",
       "      <td>subgrupo comisi oacute n constituci oacute n a...</td>\n",
       "      <td>Política</td>\n",
       "      <td>grupo comisin constitucin congreso viene revis...</td>\n",
       "      <td>2017-02-01</td>\n",
       "      <td>Facultades legislativas</td>\n",
       "    </tr>\n",
       "    <tr>\n",
       "      <th>2997</th>\n",
       "      <td>https://elcomercio.pe/lima/nueva-crecida-rio-h...</td>\n",
       "      <td>nueva crecida rio huaycoloro causo alarma vecinos</td>\n",
       "      <td>entrada campoy cerrada policia pidieron reside...</td>\n",
       "      <td>Lima</td>\n",
       "      <td>nueva crecida rio huaycoloro causo alarma veci...</td>\n",
       "      <td>2017-02-01</td>\n",
       "      <td>Río Huaycoloro</td>\n",
       "    </tr>\n",
       "    <tr>\n",
       "      <th>2998</th>\n",
       "      <td>https://elcomercio.pe/mundo/eeuu/musulmanes-pr...</td>\n",
       "      <td>musulmanes protestaron donald trump frente cap...</td>\n",
       "      <td>protesta encabezada khizr khan perdio hijo gue...</td>\n",
       "      <td>EEUU</td>\n",
       "      <td>khizr khan musulman perdio hijo guerra irak pa...</td>\n",
       "      <td>2017-02-01</td>\n",
       "      <td>Estados Unidos, Donald Trump</td>\n",
       "    </tr>\n",
       "    <tr>\n",
       "      <th>2999</th>\n",
       "      <td>https://elcomercio.pe/lima/minsa-lima-callao-h...</td>\n",
       "      <td>minsa lima callao mil niños anemia</td>\n",
       "      <td>pais niños menores años padecen anemia</td>\n",
       "      <td>Lima</td>\n",
       "      <td>ministerio salud advirtio lima metropolitana c...</td>\n",
       "      <td>2017-02-01</td>\n",
       "      <td>Anemia, Ministerio de Salud</td>\n",
       "    </tr>\n",
       "  </tbody>\n",
       "</table>\n",
       "</div>"
      ],
      "text/plain": [
       "                                                   link  \\\n",
       "2995  https://elcomercio.pe/politica/congreso/grupo-...   \n",
       "2996  https://elcomercio.pe/politica/congreso/grupo-...   \n",
       "2997  https://elcomercio.pe/lima/nueva-crecida-rio-h...   \n",
       "2998  https://elcomercio.pe/mundo/eeuu/musulmanes-pr...   \n",
       "2999  https://elcomercio.pe/lima/minsa-lima-callao-h...   \n",
       "\n",
       "                                               headline  \\\n",
       "2995    grupo congreso aprueba segundo paquete decretos   \n",
       "2996    grupo congreso aprueba segundo paquete decretos   \n",
       "2997  nueva crecida rio huaycoloro causo alarma vecinos   \n",
       "2998  musulmanes protestaron donald trump frente cap...   \n",
       "2999                 minsa lima callao mil niños anemia   \n",
       "\n",
       "                                                 bajada antetitulo  \\\n",
       "2995  subgrupo comision constitucion aprobo informes...   Congreso   \n",
       "2996  subgrupo comisi oacute n constituci oacute n a...   Política   \n",
       "2997  entrada campoy cerrada policia pidieron reside...       Lima   \n",
       "2998  protesta encabezada khizr khan perdio hijo gue...       EEUU   \n",
       "2999             pais niños menores años padecen anemia       Lima   \n",
       "\n",
       "                                                 cuerpo         dia  \\\n",
       "2995  grupo comision constitucion congreso viene rev...  2017-02-01   \n",
       "2996  grupo comisin constitucin congreso viene revis...  2017-02-01   \n",
       "2997  nueva crecida rio huaycoloro causo alarma veci...  2017-02-01   \n",
       "2998  khizr khan musulman perdio hijo guerra irak pa...  2017-02-01   \n",
       "2999  ministerio salud advirtio lima metropolitana c...  2017-02-01   \n",
       "\n",
       "                         etiquetas  \n",
       "2995       Facultades legislativas  \n",
       "2996       Facultades legislativas  \n",
       "2997                Río Huaycoloro  \n",
       "2998  Estados Unidos, Donald Trump  \n",
       "2999   Anemia, Ministerio de Salud  "
      ]
     },
     "execution_count": 142,
     "metadata": {},
     "output_type": "execute_result"
    }
   ],
   "source": [
    "inicio='2017-02-01'\n",
    "fin='2017-02-15'\n",
    "df1=gen[(gen['dia']<=fin)&(gen['dia']>=inicio)]\n",
    "df1.head()"
   ]
  },
  {
   "cell_type": "code",
   "execution_count": 143,
   "metadata": {},
   "outputs": [],
   "source": [
    "df_false1=df1[['link','cuerpo']]"
   ]
  },
  {
   "cell_type": "code",
   "execution_count": 144,
   "metadata": {},
   "outputs": [
    {
     "data": {
      "text/plain": [
       "(3746, 2)"
      ]
     },
     "execution_count": 144,
     "metadata": {},
     "output_type": "execute_result"
    }
   ],
   "source": [
    "df_false1 = df_false1.rename(columns={'link': 'noticia_link_2', 'cuerpo': 'noticia_cuerpo_2'})\n",
    "df_false1.reset_index(inplace=True)\n",
    "df_false1.drop('index',axis=1,inplace=True)\n",
    "df_false1.shape"
   ]
  },
  {
   "cell_type": "code",
   "execution_count": 145,
   "metadata": {},
   "outputs": [],
   "source": [
    "df_false = df_false.rename(columns={'link': 'noticia_link_1', 'cuerpo': 'noticia_cuerpo_1'})\n",
    "df_false.reset_index(inplace=True)\n",
    "df_false.drop('index',axis=1,inplace=True)\n",
    "df_false=df_false[:3746]"
   ]
  },
  {
   "cell_type": "code",
   "execution_count": 146,
   "metadata": {},
   "outputs": [],
   "source": [
    "df_false=pd.concat([df_false,df_false1],axis=1)\n",
    "df_false.dropna(inplace=True)"
   ]
  },
  {
   "cell_type": "code",
   "execution_count": 147,
   "metadata": {},
   "outputs": [
    {
     "data": {
      "text/plain": [
       "(3733, 4)"
      ]
     },
     "execution_count": 147,
     "metadata": {},
     "output_type": "execute_result"
    }
   ],
   "source": [
    "df_false.shape"
   ]
  },
  {
   "cell_type": "code",
   "execution_count": 148,
   "metadata": {},
   "outputs": [],
   "source": [
    "df_false['vector_1']=df_false['noticia_cuerpo_1'].apply(vectorizar)\n",
    "df_false['vector_2']=df_false['noticia_cuerpo_2'].apply(vectorizar)"
   ]
  },
  {
   "cell_type": "code",
   "execution_count": 149,
   "metadata": {},
   "outputs": [
    {
     "data": {
      "text/html": [
       "<div>\n",
       "<style scoped>\n",
       "    .dataframe tbody tr th:only-of-type {\n",
       "        vertical-align: middle;\n",
       "    }\n",
       "\n",
       "    .dataframe tbody tr th {\n",
       "        vertical-align: top;\n",
       "    }\n",
       "\n",
       "    .dataframe thead th {\n",
       "        text-align: right;\n",
       "    }\n",
       "</style>\n",
       "<table border=\"1\" class=\"dataframe\">\n",
       "  <thead>\n",
       "    <tr style=\"text-align: right;\">\n",
       "      <th></th>\n",
       "      <th>vector</th>\n",
       "      <th>distance</th>\n",
       "      <th>label</th>\n",
       "    </tr>\n",
       "  </thead>\n",
       "  <tbody>\n",
       "    <tr>\n",
       "      <th>0</th>\n",
       "      <td>[0.005788051, 0.3538172, 0.22474027, 0.1879493...</td>\n",
       "      <td>0.003728</td>\n",
       "      <td>False</td>\n",
       "    </tr>\n",
       "    <tr>\n",
       "      <th>1</th>\n",
       "      <td>[0.011197299, 0.35002586, 0.24573912, 0.198400...</td>\n",
       "      <td>0.002024</td>\n",
       "      <td>False</td>\n",
       "    </tr>\n",
       "    <tr>\n",
       "      <th>2</th>\n",
       "      <td>[0.006412245, 0.3427508, 0.23235036, 0.2021277...</td>\n",
       "      <td>0.001323</td>\n",
       "      <td>False</td>\n",
       "    </tr>\n",
       "    <tr>\n",
       "      <th>3</th>\n",
       "      <td>[0.007059036, 0.36455196, 0.2465361, 0.2023148...</td>\n",
       "      <td>0.001345</td>\n",
       "      <td>False</td>\n",
       "    </tr>\n",
       "    <tr>\n",
       "      <th>4</th>\n",
       "      <td>[-0.002157294, 0.34797102, 0.253392, 0.1905025...</td>\n",
       "      <td>0.002584</td>\n",
       "      <td>False</td>\n",
       "    </tr>\n",
       "  </tbody>\n",
       "</table>\n",
       "</div>"
      ],
      "text/plain": [
       "                                              vector  distance  label\n",
       "0  [0.005788051, 0.3538172, 0.22474027, 0.1879493...  0.003728  False\n",
       "1  [0.011197299, 0.35002586, 0.24573912, 0.198400...  0.002024  False\n",
       "2  [0.006412245, 0.3427508, 0.23235036, 0.2021277...  0.001323  False\n",
       "3  [0.007059036, 0.36455196, 0.2465361, 0.2023148...  0.001345  False\n",
       "4  [-0.002157294, 0.34797102, 0.253392, 0.1905025...  0.002584  False"
      ]
     },
     "execution_count": 149,
     "metadata": {},
     "output_type": "execute_result"
    }
   ],
   "source": [
    "df_modelo_fake=pd.DataFrame()\n",
    "df_modelo_fake['vector'] = df_false.apply(lambda row: np.concatenate((row['vector_1'], row['vector_2'])), axis=1)\n",
    "df_modelo_fake['distance'] = df_false.apply(lambda row: dist_cos((row['vector_1'], row['vector_2'])), axis=1)\n",
    "df_modelo_fake['label']=False\n",
    "df_modelo_fake.head()"
   ]
  },
  {
   "cell_type": "code",
   "execution_count": 150,
   "metadata": {},
   "outputs": [
    {
     "data": {
      "text/plain": [
       "(3733, 3)"
      ]
     },
     "execution_count": 150,
     "metadata": {},
     "output_type": "execute_result"
    }
   ],
   "source": [
    "df_modelo_fake.shape"
   ]
  },
  {
   "cell_type": "markdown",
   "metadata": {},
   "source": [
    "## DF completo"
   ]
  },
  {
   "cell_type": "code",
   "execution_count": 151,
   "metadata": {},
   "outputs": [],
   "source": [
    "df_modelo_completo=pd.concat([df_modelo_truers,df_modelo_fake[:df_modelo_truers.shape[0]]],axis=0)"
   ]
  },
  {
   "cell_type": "code",
   "execution_count": 152,
   "metadata": {},
   "outputs": [
    {
     "data": {
      "text/html": [
       "<div>\n",
       "<style scoped>\n",
       "    .dataframe tbody tr th:only-of-type {\n",
       "        vertical-align: middle;\n",
       "    }\n",
       "\n",
       "    .dataframe tbody tr th {\n",
       "        vertical-align: top;\n",
       "    }\n",
       "\n",
       "    .dataframe thead th {\n",
       "        text-align: right;\n",
       "    }\n",
       "</style>\n",
       "<table border=\"1\" class=\"dataframe\">\n",
       "  <thead>\n",
       "    <tr style=\"text-align: right;\">\n",
       "      <th></th>\n",
       "      <th>vector</th>\n",
       "      <th>distance</th>\n",
       "      <th>label</th>\n",
       "    </tr>\n",
       "  </thead>\n",
       "  <tbody>\n",
       "    <tr>\n",
       "      <th>0</th>\n",
       "      <td>[-0.006305588, 0.35444927, 0.24323046, 0.19483...</td>\n",
       "      <td>0.000163</td>\n",
       "      <td>True</td>\n",
       "    </tr>\n",
       "    <tr>\n",
       "      <th>1</th>\n",
       "      <td>[0.0070322617, 0.3425468, 0.24852908, 0.199710...</td>\n",
       "      <td>0.000080</td>\n",
       "      <td>True</td>\n",
       "    </tr>\n",
       "    <tr>\n",
       "      <th>2</th>\n",
       "      <td>[-0.017571079, 0.34671143, 0.24663553, 0.21241...</td>\n",
       "      <td>0.000013</td>\n",
       "      <td>True</td>\n",
       "    </tr>\n",
       "    <tr>\n",
       "      <th>3</th>\n",
       "      <td>[-0.0052936445, 0.3518288, 0.25134522, 0.20457...</td>\n",
       "      <td>0.000180</td>\n",
       "      <td>True</td>\n",
       "    </tr>\n",
       "    <tr>\n",
       "      <th>4</th>\n",
       "      <td>[0.0005676896, 0.32807365, 0.24815297, 0.20244...</td>\n",
       "      <td>0.000743</td>\n",
       "      <td>True</td>\n",
       "    </tr>\n",
       "    <tr>\n",
       "      <th>...</th>\n",
       "      <td>...</td>\n",
       "      <td>...</td>\n",
       "      <td>...</td>\n",
       "    </tr>\n",
       "    <tr>\n",
       "      <th>483</th>\n",
       "      <td>[-0.005910433, 0.35506958, 0.26153556, 0.19909...</td>\n",
       "      <td>0.000789</td>\n",
       "      <td>False</td>\n",
       "    </tr>\n",
       "    <tr>\n",
       "      <th>484</th>\n",
       "      <td>[-0.0025814928, 0.36323622, 0.23859063, 0.1947...</td>\n",
       "      <td>0.000880</td>\n",
       "      <td>False</td>\n",
       "    </tr>\n",
       "    <tr>\n",
       "      <th>485</th>\n",
       "      <td>[-0.032635316, 0.35215017, 0.2712324, 0.214927...</td>\n",
       "      <td>0.002055</td>\n",
       "      <td>False</td>\n",
       "    </tr>\n",
       "    <tr>\n",
       "      <th>486</th>\n",
       "      <td>[0.021032246, 0.3391009, 0.247589, 0.19070993,...</td>\n",
       "      <td>0.001458</td>\n",
       "      <td>False</td>\n",
       "    </tr>\n",
       "    <tr>\n",
       "      <th>487</th>\n",
       "      <td>[-0.0059078005, 0.35705155, 0.24367376, 0.1890...</td>\n",
       "      <td>0.000703</td>\n",
       "      <td>False</td>\n",
       "    </tr>\n",
       "  </tbody>\n",
       "</table>\n",
       "<p>976 rows × 3 columns</p>\n",
       "</div>"
      ],
      "text/plain": [
       "                                                vector  distance  label\n",
       "0    [-0.006305588, 0.35444927, 0.24323046, 0.19483...  0.000163   True\n",
       "1    [0.0070322617, 0.3425468, 0.24852908, 0.199710...  0.000080   True\n",
       "2    [-0.017571079, 0.34671143, 0.24663553, 0.21241...  0.000013   True\n",
       "3    [-0.0052936445, 0.3518288, 0.25134522, 0.20457...  0.000180   True\n",
       "4    [0.0005676896, 0.32807365, 0.24815297, 0.20244...  0.000743   True\n",
       "..                                                 ...       ...    ...\n",
       "483  [-0.005910433, 0.35506958, 0.26153556, 0.19909...  0.000789  False\n",
       "484  [-0.0025814928, 0.36323622, 0.23859063, 0.1947...  0.000880  False\n",
       "485  [-0.032635316, 0.35215017, 0.2712324, 0.214927...  0.002055  False\n",
       "486  [0.021032246, 0.3391009, 0.247589, 0.19070993,...  0.001458  False\n",
       "487  [-0.0059078005, 0.35705155, 0.24367376, 0.1890...  0.000703  False\n",
       "\n",
       "[976 rows x 3 columns]"
      ]
     },
     "execution_count": 152,
     "metadata": {},
     "output_type": "execute_result"
    }
   ],
   "source": [
    "df_modelo_completo"
   ]
  },
  {
   "cell_type": "code",
   "execution_count": 153,
   "metadata": {},
   "outputs": [],
   "source": [
    "df_truers = df_modelo_completo[df_modelo_completo['label'] == True]\n",
    "df_fakes = df_modelo_completo[df_modelo_completo['label'] == False]\n",
    "\n",
    "df_train_truers = df_truers.sample(frac=0.8, random_state=42)\n",
    "df_train_fakes = df_fakes.sample(frac=0.8, random_state=42)\n",
    "\n",
    "df_train = pd.concat([df_train_truers, df_train_fakes])\n",
    "\n",
    "df_test = df_modelo_completo.drop(df_train.index)"
   ]
  },
  {
   "cell_type": "markdown",
   "metadata": {},
   "source": [
    "## Modelo (MLP)"
   ]
  },
  {
   "cell_type": "code",
   "execution_count": 154,
   "metadata": {},
   "outputs": [
    {
     "name": "stdout",
     "output_type": "stream",
     "text": [
      "Precisión del modelo: 0.85\n"
     ]
    }
   ],
   "source": [
    "import numpy as np\n",
    "from sklearn.neural_network import MLPClassifier\n",
    "from sklearn.model_selection import train_test_split\n",
    "from sklearn.preprocessing import StandardScaler\n",
    "\n",
    "X_train_vectors = np.vstack(df_train['vector'])\n",
    "X_test_vectors = np.vstack(df_test['vector'])\n",
    "\n",
    "X_train_distance = np.array(df_train['distance']).reshape(-1, 1)\n",
    "X_test_distance = np.array(df_test['distance']).reshape(-1, 1)\n",
    "\n",
    "X_train = np.hstack([X_train_vectors, X_train_distance])\n",
    "X_test = np.hstack([X_test_vectors, X_test_distance])\n",
    "\n",
    "y_train = df_train['label'].values\n",
    "y_test = df_test['label'].values\n",
    "\n",
    "# Escalar las características\n",
    "scaler = StandardScaler()\n",
    "X_train_scaled = scaler.fit_transform(X_train)\n",
    "X_test_scaled = scaler.transform(X_test)\n",
    "\n",
    "# Crear y configurar el modelo MLP\n",
    "mlp = MLPClassifier(hidden_layer_sizes=(100, 50),  # Dos capas ocultas con 100 y 50 neuronas\n",
    "                    activation='relu',             # Función de activación ReLU\n",
    "                    solver='adam',                 # Optimizador Adam\n",
    "                    max_iter=1000,                 # Número máximo de iteraciones\n",
    "                    random_state=42)\n",
    "\n",
    "# Entrenar el modelo\n",
    "mlp.fit(X_train_scaled, y_train)\n",
    "\n",
    "# Evaluar el modelo\n",
    "score = mlp.score(X_test_scaled, y_test)\n",
    "print(f\"Precisión del modelo: {score:.2f}\")"
   ]
  },
  {
   "cell_type": "code",
   "execution_count": 155,
   "metadata": {},
   "outputs": [
    {
     "name": "stdout",
     "output_type": "stream",
     "text": [
      "Precision para Parejas: 0.82\n",
      "Precision para Vuelveporfa: 0.89\n"
     ]
    },
    {
     "data": {
      "image/png": "[encoded data removed]",
      "text/plain": [
       "<Figure size 640x480 with 2 Axes>"
      ]
     },
     "metadata": {},
     "output_type": "display_data"
    }
   ],
   "source": [
    "from sklearn.metrics import confusion_matrix, ConfusionMatrixDisplay, precision_score\n",
    "import matplotlib.pyplot as plt\n",
    "\n",
    "y_true = y_test\n",
    "y_pred = mlp.predict(X_test_scaled)\n",
    "cm = confusion_matrix(y_true, y_pred)\n",
    "\n",
    "precision = precision_score(y_true, y_pred, average=None)\n",
    "for label, prec in zip([\"Parejas\", \"Vuelveporfa\"], precision):\n",
    "    print(f\"Precision para {label}: {prec:.2f}\")\n",
    "disp = ConfusionMatrixDisplay(confusion_matrix=cm)\n",
    "disp.plot(cmap=plt.cm.Blues)\n",
    "plt.show()"
   ]
  }
 ],
 "metadata": {
  "kernelspec": {
   "display_name": "ProyAna",
   "language": "python",
   "name": "python3"
  },
  "language_info": {
   "codemirror_mode": {
    "name": "ipython",
    "version": 3
   },
   "file_extension": ".py",
   "mimetype": "text/x-python",
   "name": "python",
   "nbconvert_exporter": "python",
   "pygments_lexer": "ipython3",
   "version": "3.12.3"
  }
 },
 "nbformat": 4,
 "nbformat_minor": 2
}
