{
 "cells": [
  {
   "cell_type": "markdown",
   "metadata": {},
   "source": [
    "archivos y librerias :p"
   ]
  },
  {
   "cell_type": "code",
   "execution_count": 5,
   "metadata": {},
   "outputs": [],
   "source": [
    "import pandas as pd\n",
    "import re\n",
    "\n",
    "correo_file=r\"..\\1. Scrapeo\\Contenido\\correo.csv\"\n",
    "comercio_file=r\"..\\1. Scrapeo\\Contenido\\comercio.csv\"\n",
    "peru21_file=r\"..\\1. Scrapeo\\Contenido\\peru21.csv\"\n",
    "\n",
    "\n",
    "reemplazo_acentos = {'á': 'a', 'é': 'e', 'í': 'i', 'ó': 'o', 'ú': 'u'}\n",
    "patron_simb = r'[^a-záàâãéèêíìîóòôõúùûüñç\\s]'\n",
    "stopwords_es=[]\n",
    "with open(\"spanish.txt\",\"r\",encoding=\"utf-8\") as s:\n",
    "    for i in s.readlines():\n",
    "        stopwords_es.append(i.strip())\n",
    "\n"
   ]
  },
  {
   "cell_type": "code",
   "execution_count": 6,
   "metadata": {},
   "outputs": [
    {
     "name": "stderr",
     "output_type": "stream",
     "text": [
      "C:\\Users\\gonza\\AppData\\Local\\Temp\\ipykernel_13916\\2125926350.py:1: ParserWarning: Falling back to the 'python' engine because the 'c' engine does not support regex separators (separators > 1 char and different from '\\s+' are interpreted as regex); you can avoid this warning by specifying engine='python'.\n",
      "  df_peru21=pd.read_csv(peru21_file,sep=\"&&&\")\n",
      "C:\\Users\\gonza\\AppData\\Local\\Temp\\ipykernel_13916\\2125926350.py:2: ParserWarning: Falling back to the 'python' engine because the 'c' engine does not support regex separators (separators > 1 char and different from '\\s+' are interpreted as regex); you can avoid this warning by specifying engine='python'.\n",
      "  df_comercio=pd.read_csv(comercio_file,sep=\"&&&\")\n",
      "C:\\Users\\gonza\\AppData\\Local\\Temp\\ipykernel_13916\\2125926350.py:3: ParserWarning: Falling back to the 'python' engine because the 'c' engine does not support regex separators (separators > 1 char and different from '\\s+' are interpreted as regex); you can avoid this warning by specifying engine='python'.\n",
      "  df_correo=pd.read_csv(correo_file,sep=\"&&&\")\n"
     ]
    }
   ],
   "source": [
    "df_peru21=pd.read_csv(peru21_file,sep=\"&&&\")\n",
    "df_comercio=pd.read_csv(comercio_file,sep=\"&&&\")\n",
    "df_correo=pd.read_csv(correo_file,sep=\"&&&\")"
   ]
  },
  {
   "cell_type": "code",
   "execution_count": 4,
   "metadata": {},
   "outputs": [
    {
     "data": {
      "text/html": [
       "<div>\n",
       "<style scoped>\n",
       "    .dataframe tbody tr th:only-of-type {\n",
       "        vertical-align: middle;\n",
       "    }\n",
       "\n",
       "    .dataframe tbody tr th {\n",
       "        vertical-align: top;\n",
       "    }\n",
       "\n",
       "    .dataframe thead th {\n",
       "        text-align: right;\n",
       "    }\n",
       "</style>\n",
       "<table border=\"1\" class=\"dataframe\">\n",
       "  <thead>\n",
       "    <tr style=\"text-align: right;\">\n",
       "      <th></th>\n",
       "      <th>link</th>\n",
       "      <th>headline</th>\n",
       "      <th>bajada</th>\n",
       "      <th>antetitulo</th>\n",
       "      <th>cuerpo</th>\n",
       "      <th>dia</th>\n",
       "      <th>etiquetas</th>\n",
       "    </tr>\n",
       "  </thead>\n",
       "  <tbody>\n",
       "  </tbody>\n",
       "</table>\n",
       "</div>"
      ],
      "text/plain": [
       "Empty DataFrame\n",
       "Columns: [link, headline, bajada, antetitulo, cuerpo, dia, etiquetas]\n",
       "Index: []"
      ]
     },
     "execution_count": 4,
     "metadata": {},
     "output_type": "execute_result"
    }
   ],
   "source": [
    "df_peru21.fillna(\"\",inplace=True)\n",
    "df_peru21['dia']=pd.to_datetime(df_peru21['dia'].str.strip(),format='%d-%m-%Y')\n",
    "df_peru21[df_peru21['cuerpo'].isna()]"
   ]
  },
  {
   "cell_type": "code",
   "execution_count": 5,
   "metadata": {},
   "outputs": [
    {
     "data": {
      "text/html": [
       "<div>\n",
       "<style scoped>\n",
       "    .dataframe tbody tr th:only-of-type {\n",
       "        vertical-align: middle;\n",
       "    }\n",
       "\n",
       "    .dataframe tbody tr th {\n",
       "        vertical-align: top;\n",
       "    }\n",
       "\n",
       "    .dataframe thead th {\n",
       "        text-align: right;\n",
       "    }\n",
       "</style>\n",
       "<table border=\"1\" class=\"dataframe\">\n",
       "  <thead>\n",
       "    <tr style=\"text-align: right;\">\n",
       "      <th></th>\n",
       "      <th>link</th>\n",
       "      <th>headline</th>\n",
       "      <th>bajada</th>\n",
       "      <th>antetitulo</th>\n",
       "      <th>cuerpo</th>\n",
       "      <th>dia</th>\n",
       "      <th>etiquetas</th>\n",
       "    </tr>\n",
       "  </thead>\n",
       "  <tbody>\n",
       "  </tbody>\n",
       "</table>\n",
       "</div>"
      ],
      "text/plain": [
       "Empty DataFrame\n",
       "Columns: [link, headline, bajada, antetitulo, cuerpo, dia, etiquetas]\n",
       "Index: []"
      ]
     },
     "execution_count": 5,
     "metadata": {},
     "output_type": "execute_result"
    }
   ],
   "source": [
    "df_comercio.fillna(\"\",inplace=True)\n",
    "df_comercio['dia']=pd.to_datetime(df_comercio['dia'].str.strip(),format='%d-%m-%Y')\n",
    "df_comercio[df_comercio['cuerpo'].isna()]"
   ]
  },
  {
   "cell_type": "code",
   "execution_count": 6,
   "metadata": {},
   "outputs": [
    {
     "data": {
      "text/html": [
       "<div>\n",
       "<style scoped>\n",
       "    .dataframe tbody tr th:only-of-type {\n",
       "        vertical-align: middle;\n",
       "    }\n",
       "\n",
       "    .dataframe tbody tr th {\n",
       "        vertical-align: top;\n",
       "    }\n",
       "\n",
       "    .dataframe thead th {\n",
       "        text-align: right;\n",
       "    }\n",
       "</style>\n",
       "<table border=\"1\" class=\"dataframe\">\n",
       "  <thead>\n",
       "    <tr style=\"text-align: right;\">\n",
       "      <th></th>\n",
       "      <th>link</th>\n",
       "      <th>headline</th>\n",
       "      <th>bajada</th>\n",
       "      <th>antetitulo</th>\n",
       "      <th>cuerpo</th>\n",
       "      <th>dia</th>\n",
       "      <th>etiquetas</th>\n",
       "    </tr>\n",
       "  </thead>\n",
       "  <tbody>\n",
       "  </tbody>\n",
       "</table>\n",
       "</div>"
      ],
      "text/plain": [
       "Empty DataFrame\n",
       "Columns: [link, headline, bajada, antetitulo, cuerpo, dia, etiquetas]\n",
       "Index: []"
      ]
     },
     "execution_count": 6,
     "metadata": {},
     "output_type": "execute_result"
    }
   ],
   "source": [
    "df_correo.fillna(\"\",inplace=True)\n",
    "df_correo['dia']=pd.to_datetime(df_correo['dia'].str.strip(),format='%d-%m-%Y')\n",
    "df_correo[df_correo['cuerpo'].isna()]"
   ]
  },
  {
   "cell_type": "markdown",
   "metadata": {},
   "source": [
    "### Estandarizacion base"
   ]
  },
  {
   "cell_type": "markdown",
   "metadata": {},
   "source": [
    "- minusculas\n",
    "- puntuacion\n",
    "- stopwords\n",
    "- tokenizacion\n",
    "- lematizacion"
   ]
  },
  {
   "cell_type": "code",
   "execution_count": 14,
   "metadata": {},
   "outputs": [],
   "source": [
    "import re\n",
    "\n",
    "\n",
    "def preprocesamiento(texto):\n",
    "    limpio = str(texto).lower()\n",
    "    \n",
    "    limpio = re.sub(r'http\\S+', '', limpio)  # Elimina URLs\n",
    "    limpio = re.sub(r'pic\\.twitter\\.com/\\S+', '', limpio) \n",
    "    # Reemplazar caracteres acentuados\n",
    "    limpio = re.sub(patron_simb,\" \",limpio,flags=re.IGNORECASE)\n",
    "    limpio = re.sub(r'[áéíóú]', lambda x: reemplazo_acentos[x.group()], limpio)\n",
    "\n",
    "    # Tokenización y eliminación de puntuación\n",
    "    tokens = limpio.split()\n",
    "    \n",
    "    # Eliminación de stopwords\n",
    "    tokens_sin_stopwords = [word for word in tokens if word not in stopwords_es]\n",
    "    \n",
    "    # Filtrar tokens que sean números\n",
    "    tokens_sin_numeros = [word for word in tokens_sin_stopwords if not re.match(r'^\\d+$', word)]\n",
    "\n",
    "    limpio = \" \".join(tokens_sin_numeros)\n",
    "    \n",
    "    return limpio\n",
    "\n"
   ]
  },
  {
   "cell_type": "code",
   "execution_count": 24,
   "metadata": {},
   "outputs": [],
   "source": [
    "campos=['headline','bajada','cuerpo']\n",
    "df_test=df_comercio[:70000]"
   ]
  },
  {
   "cell_type": "code",
   "execution_count": 25,
   "metadata": {},
   "outputs": [],
   "source": [
    "for i in range(70000):\n",
    "    body=df_test['cuerpo'].loc[42]\n",
    "    limpio=preprocesamiento(body)\n",
    "    if \"_\" in limpio:\n",
    "        print(body)\n",
    "        print(limpio)"
   ]
  },
  {
   "cell_type": "markdown",
   "metadata": {},
   "source": [
    "## Comercio"
   ]
  },
  {
   "cell_type": "code",
   "execution_count": 26,
   "metadata": {},
   "outputs": [],
   "source": [
    "com_lim = df_comercio.copy()\n",
    "\n",
    "for col in campos:\n",
    "    com_lim[col] = df_comercio[col].apply(preprocesamiento)\n",
    "com_lim.head()"
   ]
  },
  {
   "cell_type": "code",
   "execution_count": 27,
   "metadata": {},
   "outputs": [],
   "source": [
    "com_lim.to_csv('comercio_df1.txt', index=False)"
   ]
  },
  {
   "cell_type": "markdown",
   "metadata": {},
   "source": [
    "## Correo"
   ]
  },
  {
   "cell_type": "code",
   "execution_count": 28,
   "metadata": {},
   "outputs": [
    {
     "data": {
      "text/html": [
       "<div>\n",
       "<style scoped>\n",
       "    .dataframe tbody tr th:only-of-type {\n",
       "        vertical-align: middle;\n",
       "    }\n",
       "\n",
       "    .dataframe tbody tr th {\n",
       "        vertical-align: top;\n",
       "    }\n",
       "\n",
       "    .dataframe thead th {\n",
       "        text-align: right;\n",
       "    }\n",
       "</style>\n",
       "<table border=\"1\" class=\"dataframe\">\n",
       "  <thead>\n",
       "    <tr style=\"text-align: right;\">\n",
       "      <th></th>\n",
       "      <th>link</th>\n",
       "      <th>headline</th>\n",
       "      <th>bajada</th>\n",
       "      <th>antetitulo</th>\n",
       "      <th>cuerpo</th>\n",
       "      <th>dia</th>\n",
       "      <th>etiquetas</th>\n",
       "    </tr>\n",
       "  </thead>\n",
       "  <tbody>\n",
       "    <tr>\n",
       "      <th>0</th>\n",
       "      <td>https://diariocorreo.pe/mundo/salva-de-morir-d...</td>\n",
       "      <td>salva morir varias horas rodeado tiburones</td>\n",
       "      <td>pescador fortuna ser rescatado tras caer bote ...</td>\n",
       "      <td>Mundo</td>\n",
       "      <td>pescador sobrevivio horas aguas frias infestad...</td>\n",
       "      <td>2017-01-03</td>\n",
       "      <td>Pescador, Austrlaia</td>\n",
       "    </tr>\n",
       "    <tr>\n",
       "      <th>1</th>\n",
       "      <td>https://diariocorreo.pe/edicion/moquegua/presi...</td>\n",
       "      <td>presidente fiscales promete lucha frontal corr...</td>\n",
       "      <td>asi mismo anuncio gestionara construccion morg...</td>\n",
       "      <td>Moquegua</td>\n",
       "      <td>nuevo presidente junta fiscales superiores moq...</td>\n",
       "      <td>2017-01-03</td>\n",
       "      <td>Fiscalía, Corrupción, Moquegua</td>\n",
       "    </tr>\n",
       "    <tr>\n",
       "      <th>2</th>\n",
       "      <td>https://diariocorreo.pe/economia/pequenas-empr...</td>\n",
       "      <td>pequeñas empresas pueden crearse red notarios</td>\n",
       "      <td>asociacion emprendedores peru señala genera co...</td>\n",
       "      <td>Economía</td>\n",
       "      <td>tal hace chile mexico peru podria constituir e...</td>\n",
       "      <td>2017-01-03</td>\n",
       "      <td></td>\n",
       "    </tr>\n",
       "    <tr>\n",
       "      <th>3</th>\n",
       "      <td>https://diariocorreo.pe/peru/defensoria-pide-s...</td>\n",
       "      <td>defensoria pide suspender alza costo peaje pue...</td>\n",
       "      <td>traves comunicado institucion señalo residente...</td>\n",
       "      <td>Perú</td>\n",
       "      <td>atencion denuncias excesivo incremento costo p...</td>\n",
       "      <td>2017-01-03</td>\n",
       "      <td>Defensoría del Pueblo</td>\n",
       "    </tr>\n",
       "    <tr>\n",
       "      <th>4</th>\n",
       "      <td>https://diariocorreo.pe/edicion/moquegua/tempo...</td>\n",
       "      <td>temporal lluvias tormentas asi region moquegua...</td>\n",
       "      <td>ubinas reporto restriccion via activacion queb...</td>\n",
       "      <td>Moquegua</td>\n",
       "      <td>lluvias moderada intensidad registran zona and...</td>\n",
       "      <td>2017-01-03</td>\n",
       "      <td>Lluvias, Moquegua, Indeci</td>\n",
       "    </tr>\n",
       "  </tbody>\n",
       "</table>\n",
       "</div>"
      ],
      "text/plain": [
       "                                                link  \\\n",
       "0  https://diariocorreo.pe/mundo/salva-de-morir-d...   \n",
       "1  https://diariocorreo.pe/edicion/moquegua/presi...   \n",
       "2  https://diariocorreo.pe/economia/pequenas-empr...   \n",
       "3  https://diariocorreo.pe/peru/defensoria-pide-s...   \n",
       "4  https://diariocorreo.pe/edicion/moquegua/tempo...   \n",
       "\n",
       "                                            headline  \\\n",
       "0         salva morir varias horas rodeado tiburones   \n",
       "1  presidente fiscales promete lucha frontal corr...   \n",
       "2      pequeñas empresas pueden crearse red notarios   \n",
       "3  defensoria pide suspender alza costo peaje pue...   \n",
       "4  temporal lluvias tormentas asi region moquegua...   \n",
       "\n",
       "                                              bajada antetitulo  \\\n",
       "0  pescador fortuna ser rescatado tras caer bote ...      Mundo   \n",
       "1  asi mismo anuncio gestionara construccion morg...   Moquegua   \n",
       "2  asociacion emprendedores peru señala genera co...   Economía   \n",
       "3  traves comunicado institucion señalo residente...       Perú   \n",
       "4  ubinas reporto restriccion via activacion queb...   Moquegua   \n",
       "\n",
       "                                              cuerpo        dia  \\\n",
       "0  pescador sobrevivio horas aguas frias infestad... 2017-01-03   \n",
       "1  nuevo presidente junta fiscales superiores moq... 2017-01-03   \n",
       "2  tal hace chile mexico peru podria constituir e... 2017-01-03   \n",
       "3  atencion denuncias excesivo incremento costo p... 2017-01-03   \n",
       "4  lluvias moderada intensidad registran zona and... 2017-01-03   \n",
       "\n",
       "                        etiquetas  \n",
       "0             Pescador, Austrlaia  \n",
       "1  Fiscalía, Corrupción, Moquegua  \n",
       "2                                  \n",
       "3           Defensoría del Pueblo  \n",
       "4       Lluvias, Moquegua, Indeci  "
      ]
     },
     "execution_count": 28,
     "metadata": {},
     "output_type": "execute_result"
    }
   ],
   "source": [
    "crr_lim=df_correo.copy()\n",
    "for i in campos:\n",
    "    crr_lim[i] = crr_lim[i].fillna(\"\")\n",
    "    crr_lim[i] = df_correo[i].apply(preprocesamiento)\n",
    "crr_lim.head()"
   ]
  },
  {
   "cell_type": "code",
   "execution_count": 29,
   "metadata": {},
   "outputs": [],
   "source": [
    "crr_lim.to_csv('correo_df1.txt', index=False)"
   ]
  },
  {
   "cell_type": "markdown",
   "metadata": {},
   "source": [
    "## Peru21"
   ]
  },
  {
   "cell_type": "code",
   "execution_count": 30,
   "metadata": {},
   "outputs": [
    {
     "data": {
      "text/html": [
       "<div>\n",
       "<style scoped>\n",
       "    .dataframe tbody tr th:only-of-type {\n",
       "        vertical-align: middle;\n",
       "    }\n",
       "\n",
       "    .dataframe tbody tr th {\n",
       "        vertical-align: top;\n",
       "    }\n",
       "\n",
       "    .dataframe thead th {\n",
       "        text-align: right;\n",
       "    }\n",
       "</style>\n",
       "<table border=\"1\" class=\"dataframe\">\n",
       "  <thead>\n",
       "    <tr style=\"text-align: right;\">\n",
       "      <th></th>\n",
       "      <th>link</th>\n",
       "      <th>headline</th>\n",
       "      <th>bajada</th>\n",
       "      <th>antetitulo</th>\n",
       "      <th>cuerpo</th>\n",
       "      <th>dia</th>\n",
       "      <th>etiquetas</th>\n",
       "    </tr>\n",
       "  </thead>\n",
       "  <tbody>\n",
       "    <tr>\n",
       "      <th>0</th>\n",
       "      <td>https://peru21.pe/peru/caso-arlette-fallas-fal...</td>\n",
       "      <td>caso arlette contreras contamos detalles falla...</td>\n",
       "      <td>expertos afirman jueces pudieron aplicar delit...</td>\n",
       "      <td>Perú</td>\n",
       "      <td>pasado viernes adriano pozo agresor vimos pant...</td>\n",
       "      <td>2018-02-20</td>\n",
       "      <td>Feminicidio, Violencia física, Adriano Pozo, N...</td>\n",
       "    </tr>\n",
       "    <tr>\n",
       "      <th>1</th>\n",
       "      <td>https://peru21.pe/politica/ivan-noguera-dr-roc...</td>\n",
       "      <td>ivan noguera dr rock reconozco peru impotente</td>\n",
       "      <td>ex intengrante consejo nacional magistratura a...</td>\n",
       "      <td>Política</td>\n",
       "      <td>tremendo show ivan noguera ex integrante conse...</td>\n",
       "      <td>2018-10-04</td>\n",
       "      <td>Consejo Nacional de la  Magistratura, Dr. Rock...</td>\n",
       "    </tr>\n",
       "    <tr>\n",
       "      <th>2</th>\n",
       "      <td>https://peru21.pe/fotogalerias/whatsapp-aplica...</td>\n",
       "      <td>partir ahora whatsapp dejara funcionar smartph...</td>\n",
       "      <td>whatsapp decidio funcionar moviles considerari...</td>\n",
       "      <td>Fotogalerías</td>\n",
       "      <td>atencion usuarios whatsapp aplicacion dejara b...</td>\n",
       "      <td>2018-01-01</td>\n",
       "      <td>Smartphones, BlackBerry, Whatsapp</td>\n",
       "    </tr>\n",
       "    <tr>\n",
       "      <th>3</th>\n",
       "      <td>https://peru21.pe/politica/indulto-alberto-fuj...</td>\n",
       "      <td>alberto quintanilla indulto fujimori espero pp...</td>\n",
       "      <td>vocero nuevo peru indico rpp encuentran sorpre...</td>\n",
       "      <td>Política</td>\n",
       "      <td>luego conocerse presidente pedro pablo kuczyns...</td>\n",
       "      <td>2017-12-24</td>\n",
       "      <td>Alberto Fujimori, PPK, Alberto Quintanilla, In...</td>\n",
       "    </tr>\n",
       "    <tr>\n",
       "      <th>4</th>\n",
       "      <td>https://peru21.pe/peru/hospital-belen-trujillo...</td>\n",
       "      <td>hospital belen trujillo presenta hacinamiento ...</td>\n",
       "      <td>susalud detecto pacientes derivados uci perman...</td>\n",
       "      <td>Perú</td>\n",
       "      <td>alan benitesel hospital belen trujillo present...</td>\n",
       "      <td>2017-10-25</td>\n",
       "      <td>La Libertad, Hospital Regional de Trujillo</td>\n",
       "    </tr>\n",
       "  </tbody>\n",
       "</table>\n",
       "</div>"
      ],
      "text/plain": [
       "                                                link  \\\n",
       "0  https://peru21.pe/peru/caso-arlette-fallas-fal...   \n",
       "1  https://peru21.pe/politica/ivan-noguera-dr-roc...   \n",
       "2  https://peru21.pe/fotogalerias/whatsapp-aplica...   \n",
       "3  https://peru21.pe/politica/indulto-alberto-fuj...   \n",
       "4  https://peru21.pe/peru/hospital-belen-trujillo...   \n",
       "\n",
       "                                            headline  \\\n",
       "0  caso arlette contreras contamos detalles falla...   \n",
       "1      ivan noguera dr rock reconozco peru impotente   \n",
       "2  partir ahora whatsapp dejara funcionar smartph...   \n",
       "3  alberto quintanilla indulto fujimori espero pp...   \n",
       "4  hospital belen trujillo presenta hacinamiento ...   \n",
       "\n",
       "                                              bajada    antetitulo  \\\n",
       "0  expertos afirman jueces pudieron aplicar delit...          Perú   \n",
       "1  ex intengrante consejo nacional magistratura a...      Política   \n",
       "2  whatsapp decidio funcionar moviles considerari...  Fotogalerías   \n",
       "3  vocero nuevo peru indico rpp encuentran sorpre...      Política   \n",
       "4  susalud detecto pacientes derivados uci perman...          Perú   \n",
       "\n",
       "                                              cuerpo        dia  \\\n",
       "0  pasado viernes adriano pozo agresor vimos pant... 2018-02-20   \n",
       "1  tremendo show ivan noguera ex integrante conse... 2018-10-04   \n",
       "2  atencion usuarios whatsapp aplicacion dejara b... 2018-01-01   \n",
       "3  luego conocerse presidente pedro pablo kuczyns... 2017-12-24   \n",
       "4  alan benitesel hospital belen trujillo present... 2017-10-25   \n",
       "\n",
       "                                           etiquetas  \n",
       "0  Feminicidio, Violencia física, Adriano Pozo, N...  \n",
       "1  Consejo Nacional de la  Magistratura, Dr. Rock...  \n",
       "2                  Smartphones, BlackBerry, Whatsapp  \n",
       "3  Alberto Fujimori, PPK, Alberto Quintanilla, In...  \n",
       "4         La Libertad, Hospital Regional de Trujillo  "
      ]
     },
     "execution_count": 30,
     "metadata": {},
     "output_type": "execute_result"
    }
   ],
   "source": [
    "P21_lim=df_peru21.copy()\n",
    "for i in campos:\n",
    "    P21_lim[i] = P21_lim[i].fillna(\"\")\n",
    "    P21_lim[i] = df_peru21[i].apply(preprocesamiento)\n",
    "P21_lim.head()"
   ]
  },
  {
   "cell_type": "code",
   "execution_count": 31,
   "metadata": {},
   "outputs": [],
   "source": [
    "P21_lim.to_csv('peru21_df1.txt', index=False)"
   ]
  }
 ],
 "metadata": {
  "kernelspec": {
   "display_name": "ProyAna",
   "language": "python",
   "name": "python3"
  },
  "language_info": {
   "codemirror_mode": {
    "name": "ipython",
    "version": 3
   },
   "file_extension": ".py",
   "mimetype": "text/x-python",
   "name": "python",
   "nbconvert_exporter": "python",
   "pygments_lexer": "ipython3",
   "version": "3.12.3"
  }
 },
 "nbformat": 4,
 "nbformat_minor": 2
}
